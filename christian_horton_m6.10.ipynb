{
 "cells": [
  {
   "cell_type": "markdown",
   "id": "e4178282",
   "metadata": {},
   "source": [
    "## Task 1: Spark SQL Mechanics"
   ]
  },
  {
   "cell_type": "code",
   "execution_count": 215,
   "id": "a0579a5c-8c53-4639-9276-ed0436994da7",
   "metadata": {},
   "outputs": [],
   "source": [
    "from pyspark.sql import SparkSession\n",
    "import matplotlib.pyplot as plt\n",
    "\n",
    "vocabulary_size = 500\n",
    "global_truncate = True\n",
    "\n",
    "#Create a SparkSession\n",
    "spark = SparkSession.builder \\\n",
    "    .appName('app_name') \\\n",
    "    .master('local[*]') \\\n",
    "    .config('spark.sql.execution.arrow.pyspark.enabled', True) \\\n",
    "    .config('spark.sql.session.timeZone', 'UTC') \\\n",
    "    .config('spark.driver.memory','16g') \\\n",
    "    .config(\"spark.executor.memory\", \"16g\") \\\n",
    "    .config('spark.ui.showConsoleProgress', True) \\\n",
    "    .config('spark.sql.repl.eagerEval.enabled', True) \\\n",
    "    .getOrCreate()"
   ]
  },
  {
   "cell_type": "code",
   "execution_count": 216,
   "id": "244f923a-7e0c-45cd-b3a6-606da80aec1f",
   "metadata": {},
   "outputs": [],
   "source": [
    "from pyspark.sql.functions import when, col\n",
    "# Load the data into a dataframe\n",
    "df_test = spark.read.format(\"csv\") \\\n",
    "                            .option(\"header\", \"true\") \\\n",
    "                            .load(\"test.csv\")\n",
    "\n",
    "# Load in training data into a dataframe\n",
    "df_train = spark.read.format(\"csv\") \\\n",
    "                            .option(\"header\", \"true\") \\\n",
    "                            .load(\"train.csv\")\n",
    "\n",
    "df_train = df_train.withColumn('author_short', col('author')).withColumn('author', when(col('author') == 'EAP', \"Eadgar Allan Poe\")\n",
    "                                 .when(col('author') == 'HPL', \"H.P. Lovecraft\")\n",
    "                                 .otherwise('Mary Shelley'))\n",
    "\n",
    "# The above print reveals that parsing the CSV has caught some unwated lines of text.\n",
    "# We can select rows based on the only three available authors to clean up the dataset."
   ]
  },
  {
   "cell_type": "code",
   "execution_count": 217,
   "id": "0fc7f0ac-3bcb-4639-bbe7-286321af05ab",
   "metadata": {},
   "outputs": [
    {
     "name": "stdout",
     "output_type": "stream",
     "text": [
      "+----------------+------------+\n",
      "|          author|author_short|\n",
      "+----------------+------------+\n",
      "|Eadgar Allan Poe|         EAP|\n",
      "|  H.P. Lovecraft|         HPL|\n",
      "|Eadgar Allan Poe|         EAP|\n",
      "|    Mary Shelley|         MWS|\n",
      "|  H.P. Lovecraft|         HPL|\n",
      "|    Mary Shelley|         MWS|\n",
      "|Eadgar Allan Poe|         EAP|\n",
      "|Eadgar Allan Poe|         EAP|\n",
      "|Eadgar Allan Poe|         EAP|\n",
      "|    Mary Shelley|         MWS|\n",
      "|    Mary Shelley|         MWS|\n",
      "|Eadgar Allan Poe|         EAP|\n",
      "|  H.P. Lovecraft|         HPL|\n",
      "|  H.P. Lovecraft|         HPL|\n",
      "|Eadgar Allan Poe|         EAP|\n",
      "|    Mary Shelley|         MWS|\n",
      "|Eadgar Allan Poe|         EAP|\n",
      "|    Mary Shelley|         MWS|\n",
      "|Eadgar Allan Poe|         EAP|\n",
      "|  H.P. Lovecraft|         HPL|\n",
      "+----------------+------------+\n",
      "only showing top 20 rows\n",
      "\n"
     ]
    }
   ],
   "source": [
    "df_train.createOrReplaceTempView(\"train\")\n",
    "df_test.createOrReplaceTempView(\"test\")\n",
    "\n",
    "result = spark.sql(\"SELECT author, author_short FROM train\")\n",
    "result.show()"
   ]
  },
  {
   "cell_type": "code",
   "execution_count": 218,
   "id": "2f7a9d1d",
   "metadata": {},
   "outputs": [
    {
     "name": "stdout",
     "output_type": "stream",
     "text": [
      "+------------+\n",
      "|      author|\n",
      "+------------+\n",
      "|Mary Shelley|\n",
      "|Mary Shelley|\n",
      "|Mary Shelley|\n",
      "|Mary Shelley|\n",
      "|Mary Shelley|\n",
      "|Mary Shelley|\n",
      "|Mary Shelley|\n",
      "|Mary Shelley|\n",
      "|Mary Shelley|\n",
      "|Mary Shelley|\n",
      "|Mary Shelley|\n",
      "|Mary Shelley|\n",
      "|Mary Shelley|\n",
      "|Mary Shelley|\n",
      "|Mary Shelley|\n",
      "|Mary Shelley|\n",
      "|Mary Shelley|\n",
      "|Mary Shelley|\n",
      "|Mary Shelley|\n",
      "|Mary Shelley|\n",
      "+------------+\n",
      "only showing top 20 rows\n",
      "\n"
     ]
    }
   ],
   "source": [
    "result = spark.sql(\"SELECT author FROM train WHERE author_short NOT IN ('HPL', 'EAP', 'MWS')\")\n",
    "\n",
    "result.show()"
   ]
  },
  {
   "cell_type": "code",
   "execution_count": 219,
   "id": "088501de",
   "metadata": {},
   "outputs": [
    {
     "name": "stdout",
     "output_type": "stream",
     "text": [
      "+-------+--------------------+----------------+------------+\n",
      "|     id|                text|          author|author_short|\n",
      "+-------+--------------------+----------------+------------+\n",
      "|id26305|This process, how...|Eadgar Allan Poe|         EAP|\n",
      "|id17569|It never once occ...|  H.P. Lovecraft|         HPL|\n",
      "|id11008|In his left hand ...|Eadgar Allan Poe|         EAP|\n",
      "|id27763|How lovely is spr...|    Mary Shelley|         MWS|\n",
      "|id12958|Finding nothing e...|  H.P. Lovecraft|         HPL|\n",
      "|id22965|A youth passed in...|    Mary Shelley|         MWS|\n",
      "|id09674|The astronomer, p...|Eadgar Allan Poe|         EAP|\n",
      "|id13515|The surcingle hun...|Eadgar Allan Poe|         EAP|\n",
      "|id19322|I knew that you c...|Eadgar Allan Poe|         EAP|\n",
      "|id00912|I confess that ne...|    Mary Shelley|         MWS|\n",
      "|id16737|\"He shall find th...|    Mary Shelley|         MWS|\n",
      "|id16607|Here we barricade...|Eadgar Allan Poe|         EAP|\n",
      "|id19764|Herbert West need...|  H.P. Lovecraft|         HPL|\n",
      "|id18886|The farm like gro...|  H.P. Lovecraft|         HPL|\n",
      "|id17189|But a glance will...|Eadgar Allan Poe|         EAP|\n",
      "|id12799|He had escaped me...|    Mary Shelley|         MWS|\n",
      "|id08441|To these speeches...|Eadgar Allan Poe|         EAP|\n",
      "|id13117|Her native sprigh...|    Mary Shelley|         MWS|\n",
      "|id14862|I even went so fa...|Eadgar Allan Poe|         EAP|\n",
      "|id20836|His facial aspect...|  H.P. Lovecraft|         HPL|\n",
      "+-------+--------------------+----------------+------------+\n",
      "only showing top 20 rows\n",
      "\n"
     ]
    }
   ],
   "source": [
    "result_df = spark.sql(\"SELECT * FROM train WHERE author_short IN ('HPL', 'EAP', 'MWS')\")\n",
    "\n",
    "result_df.show()"
   ]
  },
  {
   "cell_type": "code",
   "execution_count": 220,
   "id": "99c66734-1f8e-4131-8d5e-15443e085381",
   "metadata": {},
   "outputs": [
    {
     "name": "stdout",
     "output_type": "stream",
     "text": [
      "+--------------------+----------+\n",
      "|            sentence|word_count|\n",
      "+--------------------+----------+\n",
      "|Oh no I will beco...|       594|\n",
      "|They are gone for...|       445|\n",
      "|As for those who ...|       335|\n",
      "|I have much to sa...|       256|\n",
      "|I invited him to ...|       191|\n",
      "|Oh God help me Le...|       190|\n",
      "|It was in Rome th...|       186|\n",
      "|At first indeed t...|       186|\n",
      "|This also was my ...|       181|\n",
      "|They were certain...|       178|\n",
      "+--------------------+----------+\n",
      "only showing top 10 rows\n",
      "\n"
     ]
    }
   ],
   "source": [
    "result_df = spark.sql(\"\"\"\n",
    "    SELECT text AS sentence,\n",
    "        size(split(text, ' ')) AS word_count\n",
    "    FROM train WHERE author_short IN ('HPL', 'EAP', 'MWS') ORDER BY word_count DESC \n",
    "\"\"\")\n",
    "\n",
    "# truncate before submitting\n",
    "result_df.show(10)"
   ]
  },
  {
   "cell_type": "code",
   "execution_count": 221,
   "id": "15b7c500-bd51-4b42-ab18-b0a55d3c8f2b",
   "metadata": {},
   "outputs": [
    {
     "name": "stdout",
     "output_type": "stream",
     "text": [
      "+----------------+-----------+\n",
      "|          author|total_words|\n",
      "+----------------+-----------+\n",
      "|  H.P. Lovecraft|     150248|\n",
      "|Eadgar Allan Poe|     172795|\n",
      "|    Mary Shelley|     167705|\n",
      "+----------------+-----------+\n",
      "\n",
      "None\n"
     ]
    }
   ],
   "source": [
    "df_train.createOrReplaceTempView('df_train')\n",
    "result_df = spark.sql(\"\"\"\n",
    "    SELECT author, SUM(size(split(text, ' '))) AS total_words\n",
    "    FROM df_train\n",
    "    GROUP BY author\n",
    "\"\"\")\n",
    "                      \n",
    "# df_counts = result_df.groupBy('author').count()\n",
    "\n",
    "print(result_df.show())\n",
    "\n",
    "\n",
    "# truncate before submitting\n",
    "# result_df.show(10)"
   ]
  },
  {
   "cell_type": "markdown",
   "id": "0d433e10",
   "metadata": {},
   "source": [
    "## Task 2: Data Loading and Query Types"
   ]
  },
  {
   "cell_type": "code",
   "execution_count": 222,
   "id": "58d1bab3",
   "metadata": {},
   "outputs": [
    {
     "name": "stdout",
     "output_type": "stream",
     "text": [
      "+----------------+---------------+\n",
      "|          author|author_category|\n",
      "+----------------+---------------+\n",
      "|Eadgar Allan Poe|      not wordy|\n",
      "|  H.P. Lovecraft|      not wordy|\n",
      "|    Mary Shelley|      not wordy|\n",
      "+----------------+---------------+\n",
      "\n"
     ]
    }
   ],
   "source": [
    "from pyspark.sql.functions import when, col, row_number\n",
    "from pyspark.sql.window import Window\n",
    "\n",
    "result_df = spark.sql(\"\"\"\n",
    "    SELECT author, \n",
    "        text AS sentence,\n",
    "        size(split(text, ' ')) AS word_count\n",
    "    FROM train WHERE author_short IN ('HPL', 'EAP', 'MWS')\n",
    "\"\"\")\n",
    "                      \n",
    "result_df = result_df.withColumn('is_wordy', when(col('word_count') > 30, \"wordy\")\n",
    "                                 .when(col('word_count') < 7, \"pity\")\n",
    "                                 .otherwise('not wordy'))\n",
    "\n",
    "counts = result_df.groupBy('author', 'is_wordy').count()\n",
    "# print(counts.show())\n",
    "\n",
    "w1 = Window.partitionBy(\"author\").orderBy(col(\"is_wordy\"))\n",
    "filtered_df = counts.withColumn(\"row\",row_number().over(w1)) \\\n",
    "  .filter(col(\"row\") == 1).drop(\"row\")\n",
    "\n",
    "print(filtered_df.select(col('author'), col('is_wordy').alias('author_category')))"
   ]
  },
  {
   "cell_type": "markdown",
   "id": "e56bc4a7",
   "metadata": {},
   "source": [
    "## Task 3: Advance SQL Functions and Expressions"
   ]
  },
  {
   "cell_type": "code",
   "execution_count": 223,
   "id": "762c6db4",
   "metadata": {},
   "outputs": [
    {
     "name": "stdout",
     "output_type": "stream",
     "text": [
      "+---+----------------+----------------------------------------------------------------------------------------------------------------------------------------------------------------------------------------------------------------------------------------------------------------------------------------------------------------------------------------------------------------------------------------------------------------------------------------------------------------------------------------------------------+\n",
      "|id |author          |concatenated_text                                                                                                                                                                                                                                                                                                                                                                                                                                                                                         |\n",
      "+---+----------------+----------------------------------------------------------------------------------------------------------------------------------------------------------------------------------------------------------------------------------------------------------------------------------------------------------------------------------------------------------------------------------------------------------------------------------------------------------------------------------------------------------+\n",
      "|0  |Eadgar Allan Poe|0 this process, however, afforded me no means of ascertaining the dimensions of my dungeon; as i might make its circuit, and return to the point whence i set out, without being aware of the fact; so perfectly uniform seemed the wall.                                                                                                                                                                                                                                                                 |\n",
      "|1  |H.P. Lovecraft  |1 it never once occurred to me that the fumbling might be a mere mistake.                                                                                                                                                                                                                                                                                                                                                                                                                                 |\n",
      "|2  |Eadgar Allan Poe|2 in his left hand was a gold snuff box, from which, as he capered down the hill, cutting all manner of fantastic steps, he took snuff incessantly with an air of the greatest possible self satisfaction.                                                                                                                                                                                                                                                                                                |\n",
      "|3  |Mary Shelley    |3 how lovely is spring as we looked from windsor terrace on the sixteen fertile counties spread beneath, speckled by happy cottages and wealthier towns, all looked as in former years, heart cheering and fair.                                                                                                                                                                                                                                                                                          |\n",
      "|4  |H.P. Lovecraft  |4 finding nothing else, not even gold, the superintendent abandoned his attempts; but a perplexed look occasionally steals over his countenance as he sits thinking at his desk.                                                                                                                                                                                                                                                                                                                          |\n",
      "|5  |Mary Shelley    |5 a youth passed in solitude, my best years spent under your gentle and feminine fosterage, has so refined the groundwork of my character that i cannot overcome an intense distaste to the usual brutality exercised on board ship: i have never believed it to be necessary, and when i heard of a mariner equally noted for his kindliness of heart and the respect and obedience paid to him by his crew, i felt myself peculiarly fortunate in being able to secure his services.                    |\n",
      "|6  |Eadgar Allan Poe|6 the astronomer, perhaps, at this point, took refuge in the suggestion of non luminosity; and here analogy was suddenly let fall.                                                                                                                                                                                                                                                                                                                                                                        |\n",
      "|7  |Eadgar Allan Poe|7 the surcingle hung in ribands from my body.                                                                                                                                                                                                                                                                                                                                                                                                                                                             |\n",
      "|8  |Eadgar Allan Poe|8 i knew that you could not say to yourself 'stereotomy' without being brought to think of atomies, and thus of the theories of epicurus; and since, when we discussed this subject not very long ago, i mentioned to you how singularly, yet with how little notice, the vague guesses of that noble greek had met with confirmation in the late nebular cosmogony, i felt that you could not avoid casting your eyes upward to the great nebula in orion, and i certainly expected that you would do so.|\n",
      "|9  |Mary Shelley    |9 i confess that neither the structure of languages, nor the code of governments, nor the politics of various states possessed attractions for me.                                                                                                                                                                                                                                                                                                                                                        |\n",
      "|10 |Mary Shelley    |10 \"he shall find that i can feel my injuries; he shall learn to dread my revenge\"\" a few days after he arrived.\"                                                                                                                                                                                                                                                                                                                                                                                         |\n",
      "|11 |Eadgar Allan Poe|11 here we barricaded ourselves, and, for the present were secure.                                                                                                                                                                                                                                                                                                                                                                                                                                        |\n",
      "|12 |H.P. Lovecraft  |12 herbert west needed fresh bodies because his life work was the reanimation of the dead.                                                                                                                                                                                                                                                                                                                                                                                                                |\n",
      "|13 |H.P. Lovecraft  |13 the farm like grounds extended back very deeply up the hill, almost to wheaton street.                                                                                                                                                                                                                                                                                                                                                                                                                 |\n",
      "|14 |Eadgar Allan Poe|14 but a glance will show the fallacy of this idea.                                                                                                                                                                                                                                                                                                                                                                                                                                                       |\n",
      "|15 |Mary Shelley    |15 he had escaped me, and i must commence a destructive and almost endless journey across the mountainous ices of the ocean, amidst cold that few of the inhabitants could long endure and which i, the native of a genial and sunny climate, could not hope to survive.                                                                                                                                                                                                                                  |\n",
      "|16 |Eadgar Allan Poe|16 to these speeches they gave, of course, their own interpretation; fancying, no doubt, that at all events i should come into possession of vast quantities of ready money; and provided i paid them all i owed, and a trifle more, in consideration of their services, i dare say they cared very little what became of either my soul or my carcass.                                                                                                                                                   |\n",
      "|17 |Mary Shelley    |17 her native sprightliness needed no undue excitement, and her placid heart reposed contented on my love, the well being of her children, and the beauty of surrounding nature.                                                                                                                                                                                                                                                                                                                          |\n",
      "|18 |Eadgar Allan Poe|18 i even went so far as to speak of a slightly hectic cough with which, at one time, i had been troubled of a chronic rheumatism of a twinge of hereditary gout and, in conclusion, of the disagreeable and inconvenient, but hitherto carefully concealed, weakness of my eyes.                                                                                                                                                                                                                         |\n",
      "|19 |H.P. Lovecraft  |19 his facial aspect, too, was remarkable for its maturity; for though he shared his mother's and grandfather's chinlessness, his firm and precociously shaped nose united with the expression of his large, dark, almost latin eyes to give him an air of quasi adulthood and well nigh preternatural intelligence.                                                                                                                                                                                      |\n",
      "+---+----------------+----------------------------------------------------------------------------------------------------------------------------------------------------------------------------------------------------------------------------------------------------------------------------------------------------------------------------------------------------------------------------------------------------------------------------------------------------------------------------------------------------------+\n",
      "only showing top 20 rows\n",
      "\n",
      "None\n"
     ]
    }
   ],
   "source": [
    "# lowered\n",
    "from pyspark.sql.functions import when, col, lower, concat, monotonically_increasing_id, lit\n",
    "\n",
    "result_df = spark.sql(\"\"\"\n",
    "    SELECT id, author, \n",
    "        lower(text) AS sentence\n",
    "    FROM train WHERE author_short IN ('HPL', 'EAP', 'MWS')\n",
    "\"\"\")\n",
    "                      \n",
    "result_df = result_df.select(\"*\").withColumn(\"id\", monotonically_increasing_id())\n",
    "\n",
    "result_df = result_df.select(col('id'), col('author'), concat(col('id'), lit(' '), col('sentence')).alias('concatenated_text'))\n",
    "\n",
    "print(result_df.show(truncate=False))"
   ]
  },
  {
   "cell_type": "markdown",
   "id": "b1303165",
   "metadata": {},
   "source": [
    "## Task 4: Views and Temporay Table"
   ]
  },
  {
   "cell_type": "code",
   "execution_count": 224,
   "id": "f6ad1df2",
   "metadata": {},
   "outputs": [
    {
     "name": "stdout",
     "output_type": "stream",
     "text": [
      "+----------------+---------------------------------------------------------------------------------------------------------------------------------------------------------------------------------------------------------------------------------------+\n",
      "|author          |sentence                                                                                                                                                                                                                               |\n",
      "+----------------+---------------------------------------------------------------------------------------------------------------------------------------------------------------------------------------------------------------------------------------+\n",
      "|Eadgar Allan Poe|This process, however, afforded me no means of ascertaining the dimensions of my dungeon; as I might make its circuit, and return to the point whence I set out, without being aware of the fact; so perfectly uniform seemed the wall.|\n",
      "|Mary Shelley    |How lovely is spring As we looked from Windsor Terrace on the sixteen fertile counties spread beneath, speckled by happy cottages and wealthier towns, all looked as in former years, heart cheering and fair.                         |\n",
      "+----------------+---------------------------------------------------------------------------------------------------------------------------------------------------------------------------------------------------------------------------------------+\n",
      "\n",
      "+----------------+------------------------------------------------------------------------------------------------------------------------------------------------------------------------------------------------------------------------------------------------------------------------------------------+\n",
      "|author          |tex                                                                                                                                                                                                                                                                                       |\n",
      "+----------------+------------------------------------------------------------------------------------------------------------------------------------------------------------------------------------------------------------------------------------------------------------------------------------------+\n",
      "|Eadgar Allan Poe|leaning upon the arm of the gallant pompey, and attended at a respectable distance by diana, i proceeded down one of the populous and very pleasant streets of the now deserted edina.                                                                                                    |\n",
      "|H.P. Lovecraft  |here he knew strange things had happened once, and there was a faint suggestion behind the surface that everything of that monstrous past might not at least in the darkest, narrowest, and most intricately crooked alleys have utterly perished.                                        |\n",
      "|Mary Shelley    |these reflections have dispelled the agitation with which i began my letter, and i feel my heart glow with an enthusiasm which elevates me to heaven, for nothing contributes so much to tranquillize the mind as a steady purpose a point on which the soul may fix its intellectual eye.|\n",
      "+----------------+------------------------------------------------------------------------------------------------------------------------------------------------------------------------------------------------------------------------------------------------------------------------------------------+\n",
      "\n",
      "None\n"
     ]
    }
   ],
   "source": [
    "# lowered\n",
    "from pyspark.sql.functions import when, col, row_number\n",
    "from pyspark.sql.window import Window\n",
    "\n",
    "result_df = spark.sql(\"\"\"\n",
    "    SELECT author, \n",
    "        text AS sentence,\n",
    "        size(split(text, ' ')) AS word_count\n",
    "    FROM train WHERE author_short IN ('HPL', 'EAP', 'MWS')\n",
    "\"\"\")\n",
    "                      \n",
    "result_df.createOrReplaceTempView('wordy_data')\n",
    "\n",
    "spark.sql(\"\"\"\n",
    "  SELECT author, sentence \n",
    "          FROM (SELECT *, row_number() OVER (PARTITION BY author ORDER BY author) as rn FROM wordy_data) WHERE rn = 1 AND word_count > 30\n",
    "\"\"\").show(truncate=False)\n",
    "\n",
    "result_df = spark.sql(\"\"\"\n",
    "    SELECT DISTINCT(author), \n",
    "        lower(text) AS sentence,\n",
    "        size(split(text, ' ')) AS word_count\n",
    "    FROM train WHERE author_short IN ('HPL', 'EAP', 'MWS')\n",
    "\"\"\")\n",
    "                      \n",
    "result_df = result_df.withColumn('is_wordy', when(col('word_count') > 30, \"wordy\")\n",
    "                                 .when(col('word_count') < 7, \"pity\")\n",
    "                                 .otherwise('not wordy'))\n",
    "\n",
    "\n",
    "wordy_df = result_df.where(col('is_wordy') == 'wordy')\n",
    "\n",
    "w1 = Window.partitionBy(\"author\").orderBy(col(\"is_wordy\"))\n",
    "filtered_df = wordy_df.withColumn(\"row\",row_number().over(w1)) \\\n",
    "  .filter(col(\"row\") == 1).drop(\"row\")\n",
    "\n",
    "print(filtered_df.select(col('author'), col('sentence').alias('tex')).show(truncate=False))"
   ]
  },
  {
   "cell_type": "markdown",
   "id": "843b2657",
   "metadata": {},
   "source": [
    "## Task 5 & 6: Error Handling and Spark SQL for Machine Learning"
   ]
  },
  {
   "cell_type": "code",
   "execution_count": 237,
   "id": "bf6a5f53",
   "metadata": {},
   "outputs": [
    {
     "name": "stderr",
     "output_type": "stream",
     "text": [
      "[Stage 1657:>                                                       (0 + 1) / 1]\r"
     ]
    },
    {
     "name": "stdout",
     "output_type": "stream",
     "text": [
      "+----------------+--------------------+\n",
      "|          author|     lexical_density|\n",
      "+----------------+--------------------+\n",
      "|  H.P. Lovecraft|0.004010062863894...|\n",
      "|Eadgar Allan Poe|0.003549652186842...|\n",
      "|    Mary Shelley|0.002977087698954581|\n",
      "+----------------+--------------------+\n",
      "\n"
     ]
    },
    {
     "name": "stderr",
     "output_type": "stream",
     "text": [
      "                                                                                \r"
     ]
    }
   ],
   "source": [
    "try:\n",
    "    df_train2 = spark.read.format(\"csv\") \\\n",
    "                            .option(\"header\", \"true\") \\\n",
    "                            .load(\"train.csv\")\n",
    "except:\n",
    "    print(\"Could not find file\")\n",
    "\n",
    "df_train.createOrReplaceTempView(\"dataset_table\")\n",
    "\n",
    "spark.sql(\"\"\"\n",
    "    SELECT author, COUNT(DISTINCT word) / CAST(SUM(size(split(text, ' '))) AS FLOAT) AS lexical_density\n",
    "    FROM (\n",
    "        SELECT author, text, explode(split(lower(text), ' ')) AS word\n",
    "        FROM dataset_table\n",
    "    ) subquery\n",
    "    GROUP BY author\n",
    "    ORDER BY lexical_density DESC\n",
    "\"\"\").show()"
   ]
  },
  {
   "cell_type": "markdown",
   "id": "83b6edfc",
   "metadata": {},
   "source": [
    "# Module 5 using Module 6 Dataset"
   ]
  },
  {
   "cell_type": "markdown",
   "id": "6e009b2a",
   "metadata": {},
   "source": [
    "The assignment uses a dataset containing the text and authors of spooky books written in the past. The columns that are given\n",
    "are id, author, and text. Each row of column text comes from books written by their associated author. There are only three authors\n",
    "that are listed in the dataset. They are Edgar Allan Poe (EAP), HP Lovecraft (HPL), and Mary Selley (MSW). Overall, there are \n",
    "19,000 entries of text inside the dataset. "
   ]
  },
  {
   "cell_type": "markdown",
   "id": "9c553a84",
   "metadata": {},
   "source": [
    "## **Task 0**: *Import Data*"
   ]
  },
  {
   "cell_type": "markdown",
   "id": "2e2f3dfa",
   "metadata": {},
   "source": [
    "Viewing the dataset, we can discard the id column as it won't provide any useful information. Grouping together the entires by\n",
    "author shows that some lines of text were treated as a different column and were grouped in with the author column. To remove any\n",
    "possible issues, we can filter all rows for all those that contain at least one of the three authors."
   ]
  },
  {
   "cell_type": "code",
   "execution_count": 226,
   "id": "90a2f11b",
   "metadata": {},
   "outputs": [
    {
     "name": "stdout",
     "output_type": "stream",
     "text": [
      "Data before filtering\n",
      "+----------------+-----+\n",
      "|          author|count|\n",
      "+----------------+-----+\n",
      "|  H.P. Lovecraft| 5451|\n",
      "|Eadgar Allan Poe| 7044|\n",
      "|    Mary Shelley| 7084|\n",
      "+----------------+-----+\n",
      "\n",
      "+-------+--------------------+----------------+------------+\n",
      "|     id|                text|          author|author_short|\n",
      "+-------+--------------------+----------------+------------+\n",
      "|id26305|This process, how...|Eadgar Allan Poe|         EAP|\n",
      "|id17569|It never once occ...|  H.P. Lovecraft|         HPL|\n",
      "|id11008|In his left hand ...|Eadgar Allan Poe|         EAP|\n",
      "|id27763|How lovely is spr...|    Mary Shelley|         MWS|\n",
      "|id12958|Finding nothing e...|  H.P. Lovecraft|         HPL|\n",
      "|id22965|A youth passed in...|    Mary Shelley|         MWS|\n",
      "|id09674|The astronomer, p...|Eadgar Allan Poe|         EAP|\n",
      "|id13515|The surcingle hun...|Eadgar Allan Poe|         EAP|\n",
      "|id19322|I knew that you c...|Eadgar Allan Poe|         EAP|\n",
      "|id00912|I confess that ne...|    Mary Shelley|         MWS|\n",
      "|id16737|\"He shall find th...|    Mary Shelley|         MWS|\n",
      "|id16607|Here we barricade...|Eadgar Allan Poe|         EAP|\n",
      "|id19764|Herbert West need...|  H.P. Lovecraft|         HPL|\n",
      "|id18886|The farm like gro...|  H.P. Lovecraft|         HPL|\n",
      "|id17189|But a glance will...|Eadgar Allan Poe|         EAP|\n",
      "|id12799|He had escaped me...|    Mary Shelley|         MWS|\n",
      "|id08441|To these speeches...|Eadgar Allan Poe|         EAP|\n",
      "|id13117|Her native sprigh...|    Mary Shelley|         MWS|\n",
      "|id14862|I even went so fa...|Eadgar Allan Poe|         EAP|\n",
      "|id20836|His facial aspect...|  H.P. Lovecraft|         HPL|\n",
      "+-------+--------------------+----------------+------------+\n",
      "only showing top 20 rows\n",
      "\n",
      "Data after filtering\n",
      "+----------------+-----+\n",
      "|          author|count|\n",
      "+----------------+-----+\n",
      "|  H.P. Lovecraft| 5451|\n",
      "|Eadgar Allan Poe| 7044|\n",
      "|    Mary Shelley| 5552|\n",
      "+----------------+-----+\n",
      "\n"
     ]
    },
    {
     "data": {
      "image/png": "[encoded data removed]",
      "text/plain": [
       "<Figure size 640x480 with 1 Axes>"
      ]
     },
     "metadata": {},
     "output_type": "display_data"
    }
   ],
   "source": [
    "from pyspark.sql import SparkSession\n",
    "import matplotlib.pyplot as plt\n",
    "\n",
    "# Grouping by the author shows that there is some texts with no authors. We'll need to clean that up\n",
    "print('Data before filtering')\n",
    "print(df_train.groupBy('author').count())\n",
    "\n",
    "print(df_train)\n",
    "\n",
    "# The above print reveals that parsing the CSV has caught some unwated lines of text.\n",
    "# We can select rows based on the only three available authors to clean up the dataset.\n",
    "df_train = df_train.filter(df_train.author_short.isin(['EAP', 'HPL', 'MWS']))\n",
    "\n",
    "# Group all entries by author\n",
    "print('Data after filtering')\n",
    "author_counts = df_train.groupBy('author').count()\n",
    "print(author_counts)\n",
    "\n",
    "# Collect down the list of authors and counts\n",
    "authors = author_counts.select('author').rdd.flatMap(lambda x: x).collect()\n",
    "counts = author_counts.select('count').rdd.flatMap(lambda x: x).collect()\n",
    "\n",
    "# Build and plot the counts per author\n",
    "fig, ax = plt.subplots()\n",
    "ax.bar(authors, counts, label=authors, color=['tab:red', 'tab:blue', 'tab:orange'])\n",
    "ax.set_title('Entries per Author')\n",
    "ax.set_ylabel('Entries')\n",
    "ax.set_xlabel('Authors')\n",
    "plt.show()"
   ]
  },
  {
   "cell_type": "markdown",
   "id": "24905afa",
   "metadata": {},
   "source": [
    "The above graph shows the total number of entries for each author. EAP has the highest amount, therefore our data \n",
    "should form predictions better for EAP. MWS is in-between while HPL has the lowest amount. I predict that the models\n",
    "will tend to predict EAP features better since they is more to train on for that particular author."
   ]
  },
  {
   "cell_type": "markdown",
   "id": "518a1607",
   "metadata": {},
   "source": [
    "## **Task 1**: *Data Preperation*"
   ]
  },
  {
   "cell_type": "markdown",
   "id": "1acf26a9",
   "metadata": {},
   "source": [
    "To prepare the data for our models, we need to first conver the string of tokens into a split array. We can use a Tokenizer for this and create a seperate column\n",
    "containing the list length of each token row. Since we are using text as our feature, we will need to run it through a Stopwords Remover model. This along with a\n",
    "list of top 10 stop words will help reduce the dataset into words that can be distinguished amongst each other."
   ]
  },
  {
   "cell_type": "code",
   "execution_count": 227,
   "id": "9b68e46b",
   "metadata": {},
   "outputs": [
    {
     "name": "stderr",
     "output_type": "stream",
     "text": [
      "                                                                                \r"
     ]
    },
    {
     "data": {
      "image/png": "[encoded data removed]",
      "text/plain": [
       "<Figure size 640x480 with 1 Axes>"
      ]
     },
     "metadata": {},
     "output_type": "display_data"
    }
   ],
   "source": [
    "from pyspark.ml.feature import StopWordsRemover, Tokenizer\n",
    "from pyspark.sql.functions import size, col, sum\n",
    "import numpy as np\n",
    "\n",
    "# List of the top ten stopwords\n",
    "top_ten_stopwords = [\n",
    "    'i',\n",
    "    'you',\n",
    "    'he',\n",
    "    'she',\n",
    "    'it',\n",
    "    'we',\n",
    "    'they',\n",
    "    'me',\n",
    "    'him',\n",
    "    'her'\n",
    "]\n",
    "\n",
    "# Use a tokenizer to split the text into individual tokens. All tokens are then stored into a list\n",
    "tokenizer = Tokenizer(inputCol=\"text\", outputCol=\"tokens\")\n",
    "\n",
    "# Transform text into tokens\n",
    "tokenizer_transformed = tokenizer.transform(df_train)\n",
    "\n",
    "# Create a new column called tokens_len to store the length of the list of tokens for each entry\n",
    "df_tokenizer = tokenizer_transformed.withColumn('tokens_len', size(col('tokens')))\n",
    "\n",
    "# Use a stop words remover to remove common stop words and a list\n",
    "# including the top 10 stop words\n",
    "stopwords_remover = StopWordsRemover(\n",
    "    inputCol=\"tokens\",\n",
    "    outputCol=\"filtered_tokens\",\n",
    "    stopWords=top_ten_stopwords\n",
    ")\n",
    "\n",
    "# Remove stop words from the dataset\n",
    "stopwords_remover_transform = stopwords_remover.transform(df_tokenizer)\n",
    "\n",
    "# Create a new column called tokens_stop_word_len to store the length of the list of tokens for each entry\n",
    "# after the stop words were removed\n",
    "df_swr = stopwords_remover_transform.withColumn('tokens_stop_word_len', size(col('filtered_tokens')))\n",
    "\n",
    "# Calculate tokens_len per author\n",
    "tokens_len_sum = df_swr.groupBy('author').agg(sum('tokens_len').alias('total_tokens_len'))\n",
    "# Calculate tokens_stop_word_len per author\n",
    "tokens_stop_word_len_sum = df_swr.groupBy('author').agg(sum('tokens_stop_word_len').alias('total_stopwords_removed_len'))\n",
    "\n",
    "# Flatten down to a list\n",
    "total_tokens_len = tokens_len_sum.select('total_tokens_len').rdd.flatMap(lambda x: x).collect()\n",
    "total_stopwords_removed_len = tokens_stop_word_len_sum.select('total_stopwords_removed_len').rdd.flatMap(lambda x: x).collect()\n",
    "\n",
    "# Graph preperation\n",
    "x = np.arange(len(authors))\n",
    "width = 0.25\n",
    "multiplier = 0\n",
    "\n",
    "# Graph data\n",
    "lens = {\n",
    "    'total_tokens': total_tokens_len,\n",
    "    'total_stopwords': total_stopwords_removed_len\n",
    "}\n",
    "\n",
    "# Add bars to graph\n",
    "fig, ax = plt.subplots(layout='constrained')\n",
    "for attribute, measurement in lens.items():\n",
    "    offset = width * multiplier\n",
    "    rects = ax.bar(x + offset, measurement, width, label=attribute)\n",
    "    ax.bar_label(rects, padding=3)\n",
    "    multiplier += 1\n",
    "\n",
    "\n",
    "# Add some text for labels, title and custom x-axis tick labels, etc.\n",
    "ax.set_ylabel('Tokens (words)')\n",
    "ax.set_title('Difference between stop-word removal')\n",
    "ax.set_xticks(x + (width / 2), authors)\n",
    "ax.legend(loc='upper left', ncols=3)\n",
    "\n",
    "# Display Graph\n",
    "plt.show()\n"
   ]
  },
  {
   "cell_type": "markdown",
   "id": "60e5effe",
   "metadata": {},
   "source": [
    "After tokenizing and removing the stop words from the tokenized list, we are still left with EAP having a majority of text associated to it.\n",
    "The difference in removal size between all authors is rougly ~10,000 words/tokens. This data reduction will help with classifications when\n",
    "using PCA and K-means, along with predictions when using supervised models such as Logistic Regression and Random Forest Classifier."
   ]
  },
  {
   "cell_type": "markdown",
   "id": "162bcb00",
   "metadata": {},
   "source": [
    "## **Task 2**: *Feature Extraction*"
   ]
  },
  {
   "cell_type": "markdown",
   "id": "3a70b08b",
   "metadata": {},
   "source": [
    "To prepare the data for our supervised models, we can run it through several transformations. For our supervised models,\n",
    "these would be a CountVectorizer to count the frequency of words. We can then pass that through an IF-IDF model to calculate\n",
    "the term fequency through all documents. We can then normalize the frequencies to a normal range using a Normalizer. Since\n",
    "the author column is a string, we must use a String Indexer to convert the strings into an index. We can pass all these \n",
    "transformations through a pipeline for both our test and training data.\n",
    "\n",
    "Due to limited hardware resources, the vocabulary size of the Count Vectorizer is set to 500. I have messed with higher values \n",
    "such as 1000 and 5000, and I've only seen better results with 1000. 5000 as a vocabulary size started to have worse effects on\n",
    "K-means clustering, while 1000 did bring it up to as high as 0.3"
   ]
  },
  {
   "cell_type": "markdown",
   "id": "0ed1a04d",
   "metadata": {},
   "source": [
    "### Supervised Feature Extraction"
   ]
  },
  {
   "cell_type": "code",
   "execution_count": 228,
   "id": "d08d3bfb",
   "metadata": {},
   "outputs": [
    {
     "name": "stderr",
     "output_type": "stream",
     "text": [
      "                                                                                \r"
     ]
    }
   ],
   "source": [
    "from pyspark.ml.feature import CountVectorizer, IDF, Normalizer, StringIndexer, PCA\n",
    "from pyspark.sql.functions import col, substring\n",
    "from pyspark.ml import Pipeline\n",
    "\n",
    "# Convert the filtered tokens into a vectorizer\n",
    "vectorizer = CountVectorizer(inputCol=\"filtered_tokens\", outputCol=\"vectorized_tokens\")\n",
    "\n",
    "# Set the vocab size to 500. This is to keep the resources low for computation\n",
    "vectorizer.setVocabSize(vocabulary_size)\n",
    "\n",
    "# Calculate the IDF using the count vectorizer\n",
    "idf = IDF(inputCol=\"vectorized_tokens\", outputCol=\"tfidf\")\n",
    "\n",
    "# Normalize the IDF output to it's final features form\n",
    "normalizer = Normalizer(inputCol=\"tfidf\", outputCol=\"features\")\n",
    "\n",
    "# Index the authors for the training dataset to integers\n",
    "string_indexer = StringIndexer(inputCol='author', outputCol='label')\n",
    "\n",
    "# Create pipeline for training data; process data and select only label and features\n",
    "pipeline_train = Pipeline(stages=[string_indexer, tokenizer, stopwords_remover, vectorizer, idf, normalizer])\n",
    "df_train_processed = pipeline_train.fit(df_train).transform(df_train)\n",
    "df_train_processed = df_train_processed.select(col('label'), col('features')) \n",
    "\n",
    "# Create pipeline for test data; process data and select only features\n",
    "pipeline_test = Pipeline(stages=[tokenizer, stopwords_remover, vectorizer, idf, normalizer])\n",
    "df_test_processed = pipeline_test.fit(df_train).transform(df_train)\n",
    "df_test_processed = df_test_processed.select(col('features')) "
   ]
  },
  {
   "cell_type": "markdown",
   "id": "a69c6037",
   "metadata": {},
   "source": [
    "### Unsupervised Feature Extraction"
   ]
  },
  {
   "cell_type": "markdown",
   "id": "fe728d95",
   "metadata": {},
   "source": [
    "For unsupervised feature extraction, we can use the PCA transformation to model our data using 3 components. This will be used with\n",
    "our K-means model."
   ]
  },
  {
   "cell_type": "code",
   "execution_count": 229,
   "id": "3261c712",
   "metadata": {},
   "outputs": [
    {
     "name": "stderr",
     "output_type": "stream",
     "text": [
      "                                                                                \r"
     ]
    }
   ],
   "source": [
    "from pyspark.ml.feature import CountVectorizer, IDF, Normalizer, StringIndexer, PCA\n",
    "from pyspark.sql.functions import col, substring\n",
    "from pyspark.ml import Pipeline\n",
    "\n",
    "# Convert the filtered tokens into a vectorizer\n",
    "vectorizer = CountVectorizer(inputCol=\"filtered_tokens\", outputCol=\"vectorized_tokens\")\n",
    "\n",
    "# Set the vocab size to 500. This is to keep the resources low for computation\n",
    "vectorizer.setVocabSize(vocabulary_size)\n",
    "\n",
    "# Calculate the IDF using the count vectorizer\n",
    "idf = IDF(inputCol=\"vectorized_tokens\", outputCol=\"tfidf\")\n",
    "\n",
    "# Reduce to 3 components using PCA\n",
    "pca = PCA(k=3, inputCol='tfidf', outputCol='features')\n",
    "\n",
    "# Index the authors for the training dataset to integers\n",
    "string_indexer = StringIndexer(inputCol='author', outputCol='label')\n",
    "\n",
    "# Create pipeline for training data; process data and select only label and features\n",
    "pipeline_train = Pipeline(stages=[string_indexer, tokenizer, stopwords_remover, vectorizer, idf, pca])\n",
    "df_train_processed_unsupervised = pipeline_train.fit(df_train).transform(df_train)\n",
    "df_train_processed_unsupervised = df_train_processed.select(col('label'), col('features')) \n",
    "\n",
    "# Create pipeline for test data; process data and select only features\n",
    "pipeline_test = Pipeline(stages=[tokenizer, stopwords_remover, vectorizer, idf, pca])\n",
    "df_test_processed_unsupervised = pipeline_test.fit(df_train).transform(df_train)\n",
    "df_test_processed_unsupervised = df_test_processed.select(col('features')) \n"
   ]
  },
  {
   "cell_type": "markdown",
   "id": "6996e4af",
   "metadata": {},
   "source": [
    "## **Task 3**: *Machine Learning*"
   ]
  },
  {
   "cell_type": "code",
   "execution_count": 230,
   "id": "20401a97",
   "metadata": {},
   "outputs": [],
   "source": [
    "# Create train test split 70% 30%\n",
    "df_supervised_train, df_supervised_test = df_train_processed.randomSplit([0.7, 0.3])"
   ]
  },
  {
   "cell_type": "markdown",
   "id": "293cd6d4",
   "metadata": {},
   "source": [
    "## Supervised - Logistic Regression"
   ]
  },
  {
   "cell_type": "markdown",
   "id": "eb410427",
   "metadata": {},
   "source": [
    "I used Logistic Regression and Random Forest Classifier for my choice of supervised maching learning models. My assumption with using a random forest classifier\n",
    "is that the large dataset will benefit when breaking down the model into sub-samples. The logistic regression will be useful since it should be able to predict\n",
    "with a good accuracy as it tries to fit the best curve amongst the dataset. With a higher vocabulary, we should see a better accuracy for logistic regression as\n",
    "there will be more data to fit a better curve."
   ]
  },
  {
   "cell_type": "code",
   "execution_count": 231,
   "id": "31323634",
   "metadata": {},
   "outputs": [
    {
     "name": "stderr",
     "output_type": "stream",
     "text": [
      "                                                                                \r"
     ]
    }
   ],
   "source": [
    "from pyspark.ml.classification import LogisticRegression\n",
    "\n",
    "# Logistic regression ML\n",
    "lr = LogisticRegression(featuresCol='features', labelCol='label')\n",
    "\n",
    "# Train with training data\n",
    "lr_model = lr.fit(df_supervised_train)\n",
    "\n",
    "# Test with training data\n",
    "lr_predictions = lr_model.transform(df_supervised_test)"
   ]
  },
  {
   "cell_type": "code",
   "execution_count": 232,
   "id": "b7ec121f",
   "metadata": {},
   "outputs": [
    {
     "name": "stderr",
     "output_type": "stream",
     "text": [
      "                                                                                \r"
     ]
    }
   ],
   "source": [
    "from pyspark.ml.classification import RandomForestClassifier\n",
    "\n",
    "# Random Forest Classifier ML\n",
    "rf = RandomForestClassifier(featuresCol='features', labelCol='label')\n",
    "\n",
    "# Train with training data\n",
    "rf_model = rf.fit(df_supervised_train)\n",
    "\n",
    "# Test with training data\n",
    "rf_predictions = rf_model.transform(df_supervised_test).select('label', 'prediction')"
   ]
  },
  {
   "cell_type": "markdown",
   "id": "093b937e",
   "metadata": {},
   "source": [
    "## Unsupervised"
   ]
  },
  {
   "cell_type": "markdown",
   "id": "0a9866c7",
   "metadata": {},
   "source": [
    "I used PCA and K-Means clustering for my unsupervised analysis. Depending on the randomness of the dataset,\n",
    "K-means should do fairly well with clustering with relatively common neighbors. With a low vocabulary size, I've\n",
    "seen great results with a maximum sillhouette score of 0.3. When I would increase the vocab size, the number of \n",
    "clusters began to grew at a fast rate. With a vocabulary size of 500 - 1000, the maximum silhouette score was an\n",
    "average of 0.25. Since the dataset being transformed grows larger as we increase the vocab size, it would make sense \n",
    "that more clusters are required to try to form better groupings of the dataset."
   ]
  },
  {
   "cell_type": "code",
   "execution_count": 233,
   "id": "a9d80007",
   "metadata": {},
   "outputs": [
    {
     "name": "stderr",
     "output_type": "stream",
     "text": [
      "                                                                                \r"
     ]
    },
    {
     "name": "stdout",
     "output_type": "stream",
     "text": [
      "[k = 2] Silhouette Score 0.015500043958634965\n"
     ]
    },
    {
     "name": "stderr",
     "output_type": "stream",
     "text": [
      "                                                                                \r"
     ]
    },
    {
     "name": "stdout",
     "output_type": "stream",
     "text": [
      "[k = 3] Silhouette Score 0.009793370536092284\n"
     ]
    },
    {
     "name": "stderr",
     "output_type": "stream",
     "text": [
      "                                                                                \r"
     ]
    },
    {
     "name": "stdout",
     "output_type": "stream",
     "text": [
      "[k = 4] Silhouette Score 0.01664182827862101\n"
     ]
    },
    {
     "name": "stderr",
     "output_type": "stream",
     "text": [
      "                                                                                \r"
     ]
    },
    {
     "name": "stdout",
     "output_type": "stream",
     "text": [
      "[k = 5] Silhouette Score 0.010476626326235758\n"
     ]
    },
    {
     "name": "stderr",
     "output_type": "stream",
     "text": [
      "                                                                                \r"
     ]
    },
    {
     "name": "stdout",
     "output_type": "stream",
     "text": [
      "[k = 6] Silhouette Score 0.015326147375993235\n"
     ]
    },
    {
     "name": "stderr",
     "output_type": "stream",
     "text": [
      "                                                                                \r"
     ]
    },
    {
     "name": "stdout",
     "output_type": "stream",
     "text": [
      "[k = 7] Silhouette Score 0.017440466432490573\n"
     ]
    },
    {
     "name": "stderr",
     "output_type": "stream",
     "text": [
      "                                                                                \r"
     ]
    },
    {
     "name": "stdout",
     "output_type": "stream",
     "text": [
      "[k = 8] Silhouette Score 0.014902429073513739\n"
     ]
    },
    {
     "name": "stderr",
     "output_type": "stream",
     "text": [
      "                                                                                \r"
     ]
    },
    {
     "name": "stdout",
     "output_type": "stream",
     "text": [
      "[k = 9] Silhouette Score 0.008453382777253446\n"
     ]
    },
    {
     "name": "stderr",
     "output_type": "stream",
     "text": [
      "                                                                                \r"
     ]
    },
    {
     "name": "stdout",
     "output_type": "stream",
     "text": [
      "[k = 10] Silhouette Score 0.015302774486514\n"
     ]
    },
    {
     "name": "stderr",
     "output_type": "stream",
     "text": [
      "[Stage 1185:>                                                       (0 + 1) / 1]\r"
     ]
    },
    {
     "name": "stdout",
     "output_type": "stream",
     "text": [
      "[k = 11] Silhouette Score 0.01741590250244837\n"
     ]
    },
    {
     "name": "stderr",
     "output_type": "stream",
     "text": [
      "                                                                                \r"
     ]
    },
    {
     "name": "stdout",
     "output_type": "stream",
     "text": [
      "[k = 12] Silhouette Score 0.0031992338478292596\n"
     ]
    },
    {
     "name": "stderr",
     "output_type": "stream",
     "text": [
      "                                                                                \r"
     ]
    },
    {
     "name": "stdout",
     "output_type": "stream",
     "text": [
      "[k = 13] Silhouette Score 0.020778483151350686\n"
     ]
    },
    {
     "name": "stderr",
     "output_type": "stream",
     "text": [
      "                                                                                \r"
     ]
    },
    {
     "name": "stdout",
     "output_type": "stream",
     "text": [
      "[k = 14] Silhouette Score 0.02853003027100968\n"
     ]
    },
    {
     "name": "stderr",
     "output_type": "stream",
     "text": [
      "                                                                                \r"
     ]
    },
    {
     "name": "stdout",
     "output_type": "stream",
     "text": [
      "[k = 15] Silhouette Score 0.02685951041885904\n"
     ]
    },
    {
     "name": "stderr",
     "output_type": "stream",
     "text": [
      "                                                                                \r"
     ]
    },
    {
     "name": "stdout",
     "output_type": "stream",
     "text": [
      "[k = 16] Silhouette Score 0.034612491913622916\n"
     ]
    },
    {
     "name": "stderr",
     "output_type": "stream",
     "text": [
      "                                                                                \r"
     ]
    },
    {
     "name": "stdout",
     "output_type": "stream",
     "text": [
      "[k = 17] Silhouette Score 0.035207023705142344\n"
     ]
    },
    {
     "name": "stderr",
     "output_type": "stream",
     "text": [
      "                                                                                \r"
     ]
    },
    {
     "name": "stdout",
     "output_type": "stream",
     "text": [
      "[k = 18] Silhouette Score 0.033324154795544694\n"
     ]
    },
    {
     "name": "stderr",
     "output_type": "stream",
     "text": [
      "[Stage 1643:>                                                       (0 + 1) / 1]\r"
     ]
    },
    {
     "name": "stdout",
     "output_type": "stream",
     "text": [
      "[k = 19] Silhouette Score 0.03144135976896873\n"
     ]
    },
    {
     "name": "stderr",
     "output_type": "stream",
     "text": [
      "                                                                                \r"
     ]
    }
   ],
   "source": [
    "from pyspark.ml.clustering import KMeans\n",
    "from pyspark.ml.evaluation import ClusteringEvaluator\n",
    "\n",
    "# List to hold evaluation tuples (cluster_size, silhouette_score)\n",
    "silhouette_scores=[]\n",
    "kmean_predictions=[]\n",
    "\n",
    "# Evaluator for K-Means\n",
    "evaluator = ClusteringEvaluator(predictionCol='prediction',\n",
    "                                featuresCol='features', \\\n",
    "                                metricName='silhouette', \n",
    "                                distanceMeasure='squaredEuclidean')\n",
    "\n",
    "max_kmeans_cluster_size = 20\n",
    "# Run K-Means for cluster sizes between 2 and 10\n",
    "for i in range(2, max_kmeans_cluster_size):\n",
    "    \n",
    "    # K-Means algorithm\n",
    "    kmeans = KMeans(featuresCol='features', \n",
    "                    predictionCol='prediction', \\\n",
    "                    k=i)\n",
    "\n",
    "    # Fit the model with the training data\n",
    "    model = kmeans.fit(df_train_processed_unsupervised)\n",
    "\n",
    "    # Make predictions with thw test data\n",
    "    predictions=model.transform(df_test_processed_unsupervised)\n",
    "    kmean_predictions.append(predictions)\n",
    "\n",
    "    # Grab score from evaluator\n",
    "    score=evaluator.evaluate(predictions)\n",
    "\n",
    "    # Add score to list for evaluation step\n",
    "    silhouette_scores.append(score)\n",
    "    print(f'[k = {i}] Silhouette Score {score}')"
   ]
  },
  {
   "cell_type": "markdown",
   "id": "58e9d874",
   "metadata": {},
   "source": [
    "## **Task 3**: *Evaluation and Visualization*"
   ]
  },
  {
   "cell_type": "code",
   "execution_count": 234,
   "id": "ce17cc7c",
   "metadata": {},
   "outputs": [
    {
     "name": "stderr",
     "output_type": "stream",
     "text": [
      "/home/christian/.local/lib/python3.10/site-packages/pyspark/sql/context.py:157: FutureWarning: Deprecated in 3.0.0. Use SparkSession.builder.getOrCreate() instead.\n",
      "  warnings.warn(\n",
      "                                                                                \r"
     ]
    },
    {
     "name": "stdout",
     "output_type": "stream",
     "text": [
      "Logistic Regression had an accuracy of 0.6657148296211689\n"
     ]
    },
    {
     "data": {
      "image/png": "[encoded data removed]",
      "text/plain": [
       "<Figure size 640x480 with 2 Axes>"
      ]
     },
     "metadata": {},
     "output_type": "display_data"
    }
   ],
   "source": [
    "from pyspark.mllib.evaluation import MulticlassMetrics\n",
    "from sklearn.metrics import confusion_matrix\n",
    "\n",
    "# Select only prediction and label columns\n",
    "lr_prediction_label = lr_predictions.select(['prediction','label'])\n",
    "\n",
    "# Build metrics for logistic regression\n",
    "metrics = MulticlassMetrics(lr_prediction_label.rdd.map(tuple))\n",
    "\n",
    "# Create confusion matrix\n",
    "cnf_matrix = confusion_matrix(lr_predictions.select('label').toPandas(), lr_predictions.select('prediction').toPandas())\n",
    "\n",
    "# Plot confusion matrix\n",
    "plt.imshow(cnf_matrix, interpolation='nearest', cmap=plt.cm.Blues)\n",
    "plt.title('Confusion Matrix')\n",
    "plt.colorbar()\n",
    "tick_marks = np.arange(len(authors))\n",
    "plt.xticks(tick_marks, authors)\n",
    "plt.yticks(tick_marks, authors)\n",
    "\n",
    "# Label the matrix cells\n",
    "thresh = cnf_matrix.max() / 2.\n",
    "for i, j in np.ndindex(cnf_matrix.shape):\n",
    "    plt.text(j, i, format(cnf_matrix[i, j], 'd'),\n",
    "             horizontalalignment=\"center\",\n",
    "             color=\"white\" if cnf_matrix[i, j] > thresh else \"black\")\n",
    "\n",
    "# Add axis labels\n",
    "plt.xlabel('Predicted label')\n",
    "plt.ylabel('True label')\n",
    "plt.tight_layout()\n",
    "\n",
    "# Display accuracy\n",
    "print(f'Logistic Regression had an accuracy of {metrics.accuracy}')"
   ]
  },
  {
   "cell_type": "markdown",
   "id": "20d2e8c7",
   "metadata": {},
   "source": [
    "The above 3x3 confusion matrix diagram shows how great the logistic regression model did at predicting the authors. With a 70-30 split, MWS had\n",
    "a high number of correct predictions, followed by EAP and HPL. To increase the accuracy of this model, increasing the vocabulary size of the \n",
    "Count Vectorizer would allow for more words to be inserted into the IF-IDF model, producing a better outcome. Overall, it is apparent that\n",
    "the Logistic Regression model had the better accuracy over the Random Forest Classifier. This model did a great job with calculating the\n",
    "curve of best possible fit within the data. The false positive predictions for Logistic Regression are very less than that of the Random Forest Classifier."
   ]
  },
  {
   "cell_type": "code",
   "execution_count": 235,
   "id": "50c50b70",
   "metadata": {},
   "outputs": [
    {
     "name": "stderr",
     "output_type": "stream",
     "text": [
      "/home/christian/.local/lib/python3.10/site-packages/pyspark/sql/context.py:157: FutureWarning: Deprecated in 3.0.0. Use SparkSession.builder.getOrCreate() instead.\n",
      "  warnings.warn(\n",
      "                                                                                \r"
     ]
    },
    {
     "name": "stdout",
     "output_type": "stream",
     "text": [
      "Random Forest Classifier has an accuracy of 0.4890538739767752\n"
     ]
    },
    {
     "data": {
      "image/png": "[encoded data removed]",
      "text/plain": [
       "<Figure size 640x480 with 2 Axes>"
      ]
     },
     "metadata": {},
     "output_type": "display_data"
    }
   ],
   "source": [
    "from pyspark.mllib.evaluation import MulticlassMetrics\n",
    "\n",
    "# Select only the predictions\n",
    "rf_prediction_label = rf_predictions.select(['prediction','label'])\n",
    "\n",
    "metrics = MulticlassMetrics(rf_prediction_label.rdd.map(tuple))\n",
    "\n",
    "cnf_matrix = confusion_matrix(rf_predictions.select('label').toPandas(), rf_predictions.select('prediction').toPandas())\n",
    "\n",
    "# Plot confusion matrix\n",
    "plt.imshow(cnf_matrix, interpolation='nearest', cmap=plt.cm.Blues)\n",
    "plt.title('Confusion Matrix')\n",
    "plt.colorbar()\n",
    "tick_marks = np.arange(len(authors))\n",
    "plt.xticks(tick_marks, authors)\n",
    "plt.yticks(tick_marks, authors)\n",
    "\n",
    "# Label the matrix cells\n",
    "thresh = cnf_matrix.max() / 2.\n",
    "for i, j in np.ndindex(cnf_matrix.shape):\n",
    "    plt.text(j, i, format(cnf_matrix[i, j], 'd'),\n",
    "             horizontalalignment=\"center\",\n",
    "             color=\"white\" if cnf_matrix[i, j] > thresh else \"black\")\n",
    "\n",
    "# Add axis labels\n",
    "plt.xlabel('Predicted label')\n",
    "plt.ylabel('True label')\n",
    "plt.tight_layout()\n",
    "\n",
    "print(f'Random Forest Classifier has an accuracy of {metrics.accuracy}')"
   ]
  },
  {
   "cell_type": "markdown",
   "id": "c83feabd",
   "metadata": {},
   "source": [
    "The confusion matrix for the Random Forest Classifier reflects the poor accuracy of the model. The model scored a lower accuracy than the logistic regression.\n",
    "There were more MWS predictions that were correct, but the other two authors, HPL and EAP, were mostly predicted incorrectly for MWS. The model tended to treat more of \n",
    "the texts as possible MWS books, which indicates that the RFC model did a poor job with predicting on subsets of the sampled data. A way to help reduce this \n",
    "incorrection may be to increase the vocab size for the Count Vectorizer. Increasing the size will allow for more token variations amongst the entry, giving a better\n",
    "range of possible values for what author the word can belong to."
   ]
  },
  {
   "cell_type": "code",
   "execution_count": 236,
   "id": "20bcf9e7",
   "metadata": {},
   "outputs": [
    {
     "data": {
      "image/png": "[encoded data removed]",
      "text/plain": [
       "<Figure size 700x500 with 1 Axes>"
      ]
     },
     "metadata": {},
     "output_type": "display_data"
    },
    {
     "name": "stdout",
     "output_type": "stream",
     "text": [
      "Best cluster size for k-means is 17\n"
     ]
    }
   ],
   "source": [
    "# Plot silhouette scores\n",
    "fig, ax = plt.subplots(1, 1, figsize=(7, 5))\n",
    "\n",
    "ax.plot(range(2, max_kmeans_cluster_size), silhouette_scores)\n",
    "ax.set_xlabel('Number of Clusters')\n",
    "ax.set_ylabel('Silhouette Score')\n",
    "\n",
    "# Show plot\n",
    "plt.show()\n",
    "\n",
    "# Find highest cluster size in silhouette scores.\n",
    "max_value = max(silhouette_scores)\n",
    "highest_k = silhouette_scores.index(max_value)\n",
    " \n",
    "print(f'Best cluster size for k-means is {highest_k + 2}')"
   ]
  },
  {
   "cell_type": "markdown",
   "id": "9f848f2e",
   "metadata": {},
   "source": [
    "The above graph shows the different silhouette scores for each of the 18 runs. With a vocab size of 500, the best \n",
    "number of clusters hovers around 17. With a value still close to 0, this indicates that there is a lot of overlapping\n",
    "of our clusters. This means our prediction accuracy will be relatively low, closer to 50%. A way to increase the\n",
    "silhouette score is to use a larger vocab size and a larger number of clusters. A vocab of size 5000 would provide\n",
    "more data to cluster, giving a better chance of having like-data neighboring closer together."
   ]
  }
 ],
 "metadata": {
  "kernelspec": {
   "display_name": "Python 3 (ipykernel)",
   "language": "python",
   "name": "python3"
  },
  "language_info": {
   "codemirror_mode": {
    "name": "ipython",
    "version": 3
   },
   "file_extension": ".py",
   "mimetype": "text/x-python",
   "name": "python",
   "nbconvert_exporter": "python",
   "pygments_lexer": "ipython3",
   "version": "3.10.6"
  }
 },
 "nbformat": 4,
 "nbformat_minor": 5
}
