{
 "cells": [
  {
   "cell_type": "code",
   "execution_count": 1,
   "id": "a5de052a",
   "metadata": {
    "scrolled": true
   },
   "outputs": [
    {
     "name": "stdout",
     "output_type": "stream",
     "text": [
      "spark.library.wheels.up\n"
     ]
    }
   ],
   "source": [
    "#=> Installation of Java prior to pyspark is required\n",
    "\n",
    "import tensorflow as tf\n",
    "\n",
    "from pyspark.sql import SparkSession #PySpark needs Java\n",
    "\n",
    "import pyspark.sql.functions as F\n",
    "\n",
    "import matplotlib.pyplot as plt\n",
    "\n",
    "from pyspark.sql.types import *\n",
    "\n",
    "from pyspark.ml.classification import LogisticRegression\n",
    "\n",
    "from pyspark.ml.classification import LogisticRegressionTrainingSummary\n",
    "\n",
    "from pyspark.ml.classification import LogisticRegressionModel, LogisticRegressionSummary\n",
    "\n",
    "from pyspark.ml.feature import VectorAssembler, StringIndexer, VectorIndexer\n",
    "\n",
    "from pyspark.ml.feature import PCA\n",
    "\n",
    "from pyspark.ml.linalg import Vectors\n",
    "\n",
    "from pyspark.ml.classification import NaiveBayes\n",
    "\n",
    "from pyspark.ml.classification import DecisionTreeClassifier, LinearSVC\n",
    "\n",
    "from pyspark.ml.classification import RandomForestClassifier, GBTClassifier\n",
    "\n",
    "from pyspark.ml.classification import MultilayerPerceptronClassifier\n",
    "\n",
    "from pyspark.ml.clustering import KMeans\n",
    "\n",
    "from pyspark.ml.regression import LinearRegression\n",
    "\n",
    "from pyspark.ml.evaluation import RegressionEvaluator, BinaryClassificationEvaluator\n",
    "\n",
    "from pyspark.ml.evaluation import MulticlassClassificationEvaluator\n",
    "\n",
    "from pyspark.ml.feature import StopWordsRemover, Tokenizer\n",
    "\n",
    "from pyspark.ml.feature import CountVectorizer, IDF\n",
    "\n",
    "from pyspark.ml.feature import Normalizer\n",
    "\n",
    "from pyspark.ml import Pipeline\n",
    "\n",
    "import seaborn as sns\n",
    "\n",
    "import matplotlib.pyplot as plt\n",
    "\n",
    "import pandas as pd\n",
    "\n",
    "import numpy as np\n",
    "\n",
    "from pyspark.sql.functions import explode\n",
    "\n",
    "import plotly.graph_objects as go\n",
    "\n",
    "import findspark\n",
    "findspark.init()\n",
    "\n",
    "print(\"spark.library.wheels.up\")\n",
    "\n"
   ]
  },
  {
   "cell_type": "code",
   "execution_count": 2,
   "id": "29b5b3e5",
   "metadata": {},
   "outputs": [],
   "source": [
    "# Create a SparkSession\n",
    "spark.stop()\n",
    "spark = SparkSession.builder.master(\"local\").config(\"spark.driver.maxResultSize\", \"10g\").config(\"spark.driver.memory\", \"50g\").config(\"spark.driver.memoryoverhead\", \"40g\").config(\"spark.executor.memoryOverhead\", \"14g\").config(\"spark.memory.offHeap.enabled\", \"true\").config(\"spark.memory.offHeap.size\",\"10g\").getOrCreate()\n"
   ]
  },
  {
   "cell_type": "code",
   "execution_count": 3,
   "id": "c19bfdad",
   "metadata": {},
   "outputs": [],
   "source": [
    "# Load the data into a DataFrame\n",
    "\n",
    "train_df = spark.read.csv('C:/Users/sitha/COSC526/train.csv', sep=',', escape='\"', header=True)\n",
    "test_df = spark.read.csv('C:/Users/sitha/COSC526/test.csv', sep=',', escape='\"', header=True)"
   ]
  },
  {
   "cell_type": "code",
   "execution_count": 11,
   "id": "7f0395bd",
   "metadata": {
    "scrolled": true
   },
   "outputs": [
    {
     "data": {
      "text/plain": [
       "DataFrame[id: string, text: string, author: string]"
      ]
     },
     "execution_count": 11,
     "metadata": {},
     "output_type": "execute_result"
    }
   ],
   "source": [
    "# Info about df\n",
    "train_df.cache()"
   ]
  },
  {
   "cell_type": "code",
   "execution_count": 6,
   "id": "8b6d31fc",
   "metadata": {},
   "outputs": [
    {
     "name": "stdout",
     "output_type": "stream",
     "text": [
      "+-------+--------------------------------------------------+------+\n",
      "|     id|                                              text|author|\n",
      "+-------+--------------------------------------------------+------+\n",
      "|id26305|This process, however, afforded me no means of ...|   EAP|\n",
      "|id17569|It never once occurred to me that the fumbling ...|   HPL|\n",
      "|id11008|In his left hand was a gold snuff box, from whi...|   EAP|\n",
      "|id27763|How lovely is spring As we looked from Windsor ...|   MWS|\n",
      "|id12958|Finding nothing else, not even gold, the Superi...|   HPL|\n",
      "+-------+--------------------------------------------------+------+\n",
      "only showing top 5 rows\n",
      "\n"
     ]
    }
   ],
   "source": [
    "# Display portion of df\n",
    "train_df.show(5, truncate=50)"
   ]
  },
  {
   "cell_type": "code",
   "execution_count": 7,
   "id": "6302c6ad",
   "metadata": {
    "scrolled": false
   },
   "outputs": [
    {
     "name": "stdout",
     "output_type": "stream",
     "text": [
      "+-------+-------+--------------------+------+\n",
      "|summary|     id|                text|author|\n",
      "+-------+-------+--------------------+------+\n",
      "|  count|  19579|               19579| 19579|\n",
      "|   mean|   null|                null|  null|\n",
      "| stddev|   null|                null|  null|\n",
      "|    min|id00001|\" Odenheimer, res...|   EAP|\n",
      "|    max|id27971|you could not hop...|   MWS|\n",
      "+-------+-------+--------------------+------+\n",
      "\n"
     ]
    }
   ],
   "source": [
    "# Descriptive statistics\n",
    "train_df.describe().show()"
   ]
  },
  {
   "cell_type": "code",
   "execution_count": 8,
   "id": "97798ee9",
   "metadata": {},
   "outputs": [
    {
     "name": "stdout",
     "output_type": "stream",
     "text": [
      "+--------------+------------+\n",
      "|author_missing|text_missing|\n",
      "+--------------+------------+\n",
      "|             0|           0|\n",
      "+--------------+------------+\n",
      "\n"
     ]
    }
   ],
   "source": [
    "# Missing Values\n",
    "missing_values_counts = train_df.agg(\n",
    "    F.sum(F.col(\"author\").isNull().cast(\"int\")).alias(\"author_missing\"),\n",
    "    F.sum(F.col(\"text\").isNull().cast(\"int\")).alias(\"text_missing\")\n",
    ")\n",
    "\n",
    "missing_values_counts.show()"
   ]
  },
  {
   "cell_type": "code",
   "execution_count": 9,
   "id": "08e1b092",
   "metadata": {
    "scrolled": true
   },
   "outputs": [
    {
     "name": "stdout",
     "output_type": "stream",
     "text": [
      "+------+\n",
      "|author|\n",
      "+------+\n",
      "|   MWS|\n",
      "|   HPL|\n",
      "|   EAP|\n",
      "+------+\n",
      "\n"
     ]
    },
    {
     "data": {
      "image/png": "[encoded data removed]",
      "text/plain": [
       "<Figure size 500x500 with 1 Axes>"
      ]
     },
     "metadata": {},
     "output_type": "display_data"
    }
   ],
   "source": [
    "# Distinct Authors\n",
    "train_df.select(\"author\").distinct().show()\n",
    "\n",
    "# Count of Each Author\n",
    "plt.figure(figsize=(5,5))\n",
    "plt.title(\"Number of Texts\")\n",
    "sns.countplot(x='author', data=train_df.select('author').toPandas());"
   ]
  },
  {
   "cell_type": "code",
   "execution_count": 10,
   "id": "0ad4dae5",
   "metadata": {},
   "outputs": [
    {
     "name": "stdout",
     "output_type": "stream",
     "text": [
      "+-------+-------+--------------------+------------------+\n",
      "|summary|     id|                text|       text_length|\n",
      "+-------+-------+--------------------+------------------+\n",
      "|  count|  19579|               19579|             19579|\n",
      "|   mean|   null|                null|149.05740844782676|\n",
      "| stddev|   null|                null|106.80018861273642|\n",
      "|    min|id00001|\" Odenheimer, res...|                21|\n",
      "|    max|id27971|you could not hop...|              4663|\n",
      "+-------+-------+--------------------+------------------+\n",
      "\n"
     ]
    },
    {
     "data": {
      "image/png": "[encoded data removed]",
      "text/plain": [
       "<Figure size 800x600 with 1 Axes>"
      ]
     },
     "metadata": {},
     "output_type": "display_data"
    },
    {
     "data": {
      "image/png": "[encoded data removed]",
      "text/plain": [
       "<Figure size 800x600 with 1 Axes>"
      ]
     },
     "metadata": {},
     "output_type": "display_data"
    }
   ],
   "source": [
    "# Text Lengths\n",
    "text_lengths = train_df.select(\"id\", \"text\", F.length(\"text\").alias(\"text_length\"))\n",
    "text_lengths.describe().show()\n",
    "\n",
    "text_lengths_pd = text_lengths.select(\"text_length\").toPandas()\n",
    "\n",
    "plt.figure(figsize=(8, 6))\n",
    "plt.boxplot(text_lengths_pd[\"text_length\"], vert=False)\n",
    "plt.xlabel(\"Text Length\")\n",
    "plt.ylabel(\"All Texts\")\n",
    "plt.yticks([1], [''])\n",
    "plt.title(\"Distribution of Text Lengths\")\n",
    "plt.show()\n",
    "\n",
    "# Text Lengths per Author\n",
    "text_lengths_author =  train_df.groupBy(\"author\").agg(F.collect_list(F.length(\"text\")).alias(\"text_lengths\"))\n",
    "text_lengths_a_pd = text_lengths_author.toPandas()\n",
    "\n",
    "plt.figure(figsize=(8, 6))\n",
    "plt.boxplot(text_lengths_a_pd[\"text_lengths\"], vert=False)\n",
    "plt.xlabel(\"Text Length\")\n",
    "plt.ylabel(\"Author\")\n",
    "plt.title(\"Distribution of Text Lengths per Author\")\n",
    "plt.yticks(range(1, len(text_lengths_a_pd) + 1), text_lengths_a_pd[\"author\"])\n",
    "plt.show()"
   ]
  },
  {
   "cell_type": "code",
   "execution_count": 4,
   "id": "000e79e8",
   "metadata": {
    "scrolled": false
   },
   "outputs": [],
   "source": [
    "# Clean Text\n",
    "from pyspark.ml import Pipeline\n",
    "from pyspark.ml.feature import SQLTransformer\n",
    "from pyspark.sql import SparkSession\n",
    "from pyspark.sql.functions import udf\n",
    "from pyspark.sql.types import StringType\n",
    "import re\n",
    "\n",
    "# Define a UDF (User-Defined Function) to remove symbols and convert to lowercase\n",
    "def remove_symbols(text):\n",
    "    cleaned_text = re.sub(r\"[^\\w\\s]\", \"\", text)\n",
    "    lowercase_text = cleaned_text.lower()\n",
    "    return lowercase_text\n",
    "\n",
    "# Register the UDF\n",
    "udf_remove_symbols = udf(remove_symbols, StringType())\n",
    "spark.udf.register(\"remove_symbols\", udf_remove_symbols)\n",
    "\n",
    "# Define the SQLTransformer stage to apply the UDF\n",
    "sql_transformer = SQLTransformer(\n",
    "    statement=\"SELECT *, remove_symbols(text) AS cleaned_text FROM __THIS__\"\n",
    ")\n",
    "\n"
   ]
  },
  {
   "cell_type": "code",
   "execution_count": 9,
   "id": "eae70d8a",
   "metadata": {
    "scrolled": false
   },
   "outputs": [
    {
     "name": "stdout",
     "output_type": "stream",
     "text": [
      "+-------+--------------------+------+--------------------+--------------------+--------------------+--------------------+--------------------+\n",
      "|     id|                text|author|        cleaned_text|              tokens|     filtered_tokens|   vectorized_tokens|            features|\n",
      "+-------+--------------------+------+--------------------+--------------------+--------------------+--------------------+--------------------+\n",
      "|id26305|This process, how...|   EAP|this process howe...|[this, process, h...|[process, however...|(25281,[7,18,40,4...|(25281,[7,18,40,4...|\n",
      "|id17569|It never once occ...|   HPL|it never once occ...|[it, never, once,...|[never, occurred,...|(25281,[7,13,303,...|(25281,[7,13,303,...|\n",
      "|id11008|In his left hand ...|   EAP|in his left hand ...|[in, his, left, h...|[left, hand, gold...|(25281,[51,75,103...|(25281,[51,75,103...|\n",
      "|id27763|How lovely is spr...|   MWS|how lovely is spr...|[how, lovely, is,...|[lovely, spring, ...|(25281,[44,52,108...|(25281,[44,52,108...|\n",
      "|id12958|Finding nothing e...|   HPL|finding nothing e...|[finding, nothing...|[finding, nothing...|(25281,[6,70,161,...|(25281,[6,70,161,...|\n",
      "|id22965|A youth passed in...|   MWS|a youth passed in...|[a, youth, passed...|[youth, passed, s...|(25281,[13,44,46,...|(25281,[13,44,46,...|\n",
      "|id09674|The astronomer, p...|   EAP|the astronomer pe...|[the, astronomer,...|[astronomer, perh...|(25281,[72,114,13...|(25281,[72,114,13...|\n",
      "|id13515|The surcingle hun...|   EAP|the surcingle hun...|[the, surcingle, ...|[surcingle, hung,...|(25281,[118,598,9...|(25281,[118,598,9...|\n",
      "|id19322|I knew that you c...|   EAP|i knew that you c...|[i, knew, that, y...|[knew, say, stere...|(25281,[4,19,21,2...|(25281,[4,19,21,2...|\n",
      "|id00912|I confess that ne...|   MWS|i confess that ne...|[i, confess, that...|[confess, neither...|(25281,[341,421,4...|(25281,[341,421,4...|\n",
      "|id16737|He shall find tha...|   MWS|he shall find tha...|[he, shall, find,...|[shall, find, fee...|(25281,[45,112,11...|(25281,[45,112,11...|\n",
      "|id16607|Here we barricade...|   EAP|here we barricade...|[here, we, barric...|[barricaded, pres...|(25281,[174,1478,...|(25281,[174,1478,...|\n",
      "|id19764|Herbert West need...|   HPL|herbert west need...|[herbert, west, n...|[herbert, west, n...|(25281,[15,137,23...|(25281,[15,137,23...|\n",
      "|id18886|The farm like gro...|   HPL|the farm like gro...|[the, farm, like,...|[farm, like, grou...|(25281,[9,69,106,...|(25281,[9,69,106,...|\n",
      "|id17189|But a glance will...|   EAP|but a glance will...|[but, a, glance, ...|[glance, show, fa...|(25281,[144,811,1...|(25281,[144,811,1...|\n",
      "|id12799|He had escaped me...|   MWS|he had escaped me...|[he, had, escaped...|[escaped, must, c...|(25281,[12,25,106...|(25281,[12,25,106...|\n",
      "|id08441|To these speeches...|   EAP|to these speeches...|[to, these, speec...|[speeches, gave, ...|(25281,[21,35,61,...|(25281,[21,35,61,...|\n",
      "|id13117|Her native sprigh...|   MWS|her native sprigh...|[her, native, spr...|[native, sprightl...|(25281,[28,44,57,...|(25281,[28,44,57,...|\n",
      "|id14862|I even went so fa...|   EAP|i even went so fa...|[i, even, went, s...|[even, went, far,...|(25281,[0,3,6,19,...|(25281,[0,3,6,19,...|\n",
      "|id20836|His facial aspect...|   HPL|his facial aspect...|[his, facial, asp...|[facial, aspect, ...|(25281,[19,28,59,...|(25281,[19,28,59,...|\n",
      "+-------+--------------------+------+--------------------+--------------------+--------------------+--------------------+--------------------+\n",
      "only showing top 20 rows\n",
      "\n",
      "+-------+--------------------+--------------------+--------------------+--------------------+--------------------+--------------------+\n",
      "|     id|                text|        cleaned_text|              tokens|     filtered_tokens|   vectorized_tokens|            features|\n",
      "+-------+--------------------+--------------------+--------------------+--------------------+--------------------+--------------------+\n",
      "|id02310|Still, as I urged...|still as i urged ...|[still, as, i, ur...|[still, urged, le...|(17632,[24,30,95,...|(17632,[24,30,95,...|\n",
      "|id24541|If a fire wanted ...|if a fire wanted ...|[if, a, fire, wan...|[fire, wanted, fa...|(17632,[3,38,189,...|(17632,[3,38,189,...|\n",
      "|id00134|And when they had...|and when they had...|[and, when, they,...|[broken, frail, d...|(17632,[23,29,71,...|(17632,[23,29,71,...|\n",
      "|id27757|While I was think...|while i was think...|[while, i, was, t...|[thinking, possib...|(17632,[0,43,73,2...|(17632,[0,43,73,2...|\n",
      "|id04081|I am not sure to ...|i am not sure to ...|[i, am, not, sure...|[sure, limit, kno...|(17632,[35,286,31...|(17632,[35,286,31...|\n",
      "|id27337|\"The thick and pe...|the thick and pec...|[the, thick, and,...|[thick, peculiar,...|(17632,[189,506,5...|(17632,[189,506,5...|\n",
      "|id24265|That which is not...|that which is not...|[that, which, is,...|[matter, unless, ...|(17632,[56,144,13...|(17632,[56,144,13...|\n",
      "|id25917|I sought for repo...|i sought for repo...|[i, sought, for, ...|[sought, repose, ...|(17632,[0,76,81,1...|(17632,[0,76,81,1...|\n",
      "|id04951|Upon the fourth d...|upon the fourth d...|[upon, the, fourt...|[upon, fourth, da...|(17632,[1,28,32,4...|(17632,[1,28,32,4...|\n",
      "|id14549|\"The tone metaphy...|the tone metaphys...|[the, tone, metap...|[tone, metaphysic...|(17632,[0,86,116,...|(17632,[0,86,116,...|\n",
      "|id22505|These, the offspr...|these the offspri...|[these, the, offs...|[offspring, later...|(17632,[3,20,185,...|(17632,[3,20,185,...|\n",
      "|id24002|What kept him fro...|what kept him fro...|[what, kept, him,...|[kept, going, bro...|(17632,[61,76,106...|(17632,[61,76,106...|\n",
      "|id18982|Persuading the wi...|persuading the wi...|[persuading, the,...|[persuading, wido...|(17632,[91,172,23...|(17632,[91,172,23...|\n",
      "|id15181|When I arose trem...|when i arose trem...|[when, i, arose, ...|[arose, trembling...|(17632,[12,18,39,...|(17632,[12,18,39,...|\n",
      "|id21888|And by the shores...|and by the shores...|[and, by, the, sh...|[shores, river, z...|(17632,[273,400,4...|(17632,[273,400,4...|\n",
      "|id12035|Idris heard of he...|idris heard of he...|[idris, heard, of...|[idris, heard, mo...|(17632,[59,199,30...|(17632,[59,199,30...|\n",
      "|id17991|I say this proudl...|i say this proudl...|[i, say, this, pr...|[say, proudly, te...|(17632,[19,27,366...|(17632,[19,27,366...|\n",
      "|id10707|But let us glance...|but let us glance...|[but, let, us, gl...|[let, us, glance,...|(17632,[13,96,161...|(17632,[13,96,161...|\n",
      "|id07101|\"What a place is ...|what a place is t...|[what, a, place, ...|[place, inhabit, ...|(17632,[8,53,94,2...|(17632,[8,53,94,2...|\n",
      "|id00345|At his nod I took...|at his nod i took...|[at, his, nod, i,...|[nod, took, one, ...|(17632,[0,1,103,2...|(17632,[0,1,103,2...|\n",
      "+-------+--------------------+--------------------+--------------------+--------------------+--------------------+--------------------+\n",
      "only showing top 20 rows\n",
      "\n"
     ]
    }
   ],
   "source": [
    "# Step 1: Tokenization\n",
    "tokenizer = Tokenizer(inputCol=\"cleaned_text\", outputCol=\"tokens\")\n",
    "\n",
    "# Step 2: Stop word removal\n",
    "stopwords_remover = StopWordsRemover(inputCol=\"tokens\", outputCol=\"filtered_tokens\")\n",
    "\n",
    "# Step 3: TF-IDF calculation\n",
    "vectorizer = CountVectorizer(inputCol=\"filtered_tokens\", outputCol=\"vectorized_tokens\")\n",
    "idf = IDF(inputCol=\"vectorized_tokens\", outputCol=\"features\")\n",
    "\n",
    "# Step 4: Normalization\n",
    "#normalizer = Normalizer(inputCol=\"tfidf\", outputCol=\"features\")\n",
    "\n",
    "# Step 5: Create pipeline for chaining the text mining transformers\n",
    "pipeline = Pipeline(stages=[sql_transformer, tokenizer, stopwords_remover, vectorizer, idf])\n",
    "\n",
    "# Step 6: Apply the pipeline to DataFrame\n",
    "processed_data = pipeline.fit(train_df).transform(train_df)\n",
    "processed_test = pipeline.fit(test_df).transform(test_df)\n",
    "\n",
    "# Show\n",
    "processed_data.show()\n",
    "processed_test.show()"
   ]
  },
  {
   "cell_type": "code",
   "execution_count": 12,
   "id": "d8aa1bc8",
   "metadata": {},
   "outputs": [
    {
     "name": "stdout",
     "output_type": "stream",
     "text": [
      "+-----+-----+\n",
      "| word|count|\n",
      "+-----+-----+\n",
      "|  one| 1497|\n",
      "| upon| 1391|\n",
      "| even|  685|\n",
      "|  yet|  656|\n",
      "|might|  605|\n",
      "| like|  590|\n",
      "|  old|  585|\n",
      "| must|  577|\n",
      "|first|  555|\n",
      "|never|  545|\n",
      "+-----+-----+\n",
      "only showing top 10 rows\n",
      "\n"
     ]
    },
    {
     "data": {
      "image/png": "[encoded data removed]",
      "text/plain": [
       "<Figure size 640x480 with 1 Axes>"
      ]
     },
     "metadata": {},
     "output_type": "display_data"
    }
   ],
   "source": [
    "# Explode the filtered tokens into separate rows\n",
    "exploded_data = processed_data.select(explode(\"filtered_tokens\").alias(\"word\"))\n",
    "\n",
    "# Word frequency count\n",
    "word_counts = exploded_data.groupBy(\"word\").count().orderBy(\"count\", ascending=False)\n",
    "word_counts.show(10)\n",
    "\n",
    "# Visualize \n",
    "word_counts_pd = word_counts.toPandas().head(10)\n",
    "plt.bar(word_counts_pd[\"word\"], word_counts_pd[\"count\"])\n",
    "plt.xlabel(\"Word\")\n",
    "plt.ylabel(\"Count\")\n",
    "plt.title(\"Frequency of Top Ten Words\")\n",
    "plt.xticks(rotation=90)\n",
    "plt.tight_layout()\n",
    "plt.show()"
   ]
  },
  {
   "cell_type": "code",
   "execution_count": 10,
   "id": "22deabdb",
   "metadata": {},
   "outputs": [
    {
     "name": "stdout",
     "output_type": "stream",
     "text": [
      "+-------+--------------------+------+--------------------+--------------------+--------------------+--------------------+--------------------+-----+\n",
      "|     id|                text|author|        cleaned_text|              tokens|     filtered_tokens|   vectorized_tokens|            features|label|\n",
      "+-------+--------------------+------+--------------------+--------------------+--------------------+--------------------+--------------------+-----+\n",
      "|id26305|This process, how...|   EAP|this process howe...|[this, process, h...|[process, however...|(25281,[7,18,40,4...|(25281,[7,18,40,4...|  0.0|\n",
      "|id17569|It never once occ...|   HPL|it never once occ...|[it, never, once,...|[never, occurred,...|(25281,[7,13,303,...|(25281,[7,13,303,...|  2.0|\n",
      "|id11008|In his left hand ...|   EAP|in his left hand ...|[in, his, left, h...|[left, hand, gold...|(25281,[51,75,103...|(25281,[51,75,103...|  0.0|\n",
      "|id27763|How lovely is spr...|   MWS|how lovely is spr...|[how, lovely, is,...|[lovely, spring, ...|(25281,[44,52,108...|(25281,[44,52,108...|  1.0|\n",
      "|id12958|Finding nothing e...|   HPL|finding nothing e...|[finding, nothing...|[finding, nothing...|(25281,[6,70,161,...|(25281,[6,70,161,...|  2.0|\n",
      "|id22965|A youth passed in...|   MWS|a youth passed in...|[a, youth, passed...|[youth, passed, s...|(25281,[13,44,46,...|(25281,[13,44,46,...|  1.0|\n",
      "|id09674|The astronomer, p...|   EAP|the astronomer pe...|[the, astronomer,...|[astronomer, perh...|(25281,[72,114,13...|(25281,[72,114,13...|  0.0|\n",
      "|id13515|The surcingle hun...|   EAP|the surcingle hun...|[the, surcingle, ...|[surcingle, hung,...|(25281,[118,598,9...|(25281,[118,598,9...|  0.0|\n",
      "|id19322|I knew that you c...|   EAP|i knew that you c...|[i, knew, that, y...|[knew, say, stere...|(25281,[4,19,21,2...|(25281,[4,19,21,2...|  0.0|\n",
      "|id00912|I confess that ne...|   MWS|i confess that ne...|[i, confess, that...|[confess, neither...|(25281,[341,421,4...|(25281,[341,421,4...|  1.0|\n",
      "|id16737|He shall find tha...|   MWS|he shall find tha...|[he, shall, find,...|[shall, find, fee...|(25281,[45,112,11...|(25281,[45,112,11...|  1.0|\n",
      "|id16607|Here we barricade...|   EAP|here we barricade...|[here, we, barric...|[barricaded, pres...|(25281,[174,1478,...|(25281,[174,1478,...|  0.0|\n",
      "|id19764|Herbert West need...|   HPL|herbert west need...|[herbert, west, n...|[herbert, west, n...|(25281,[15,137,23...|(25281,[15,137,23...|  2.0|\n",
      "|id18886|The farm like gro...|   HPL|the farm like gro...|[the, farm, like,...|[farm, like, grou...|(25281,[9,69,106,...|(25281,[9,69,106,...|  2.0|\n",
      "|id17189|But a glance will...|   EAP|but a glance will...|[but, a, glance, ...|[glance, show, fa...|(25281,[144,811,1...|(25281,[144,811,1...|  0.0|\n",
      "|id12799|He had escaped me...|   MWS|he had escaped me...|[he, had, escaped...|[escaped, must, c...|(25281,[12,25,106...|(25281,[12,25,106...|  1.0|\n",
      "|id08441|To these speeches...|   EAP|to these speeches...|[to, these, speec...|[speeches, gave, ...|(25281,[21,35,61,...|(25281,[21,35,61,...|  0.0|\n",
      "|id13117|Her native sprigh...|   MWS|her native sprigh...|[her, native, spr...|[native, sprightl...|(25281,[28,44,57,...|(25281,[28,44,57,...|  1.0|\n",
      "|id14862|I even went so fa...|   EAP|i even went so fa...|[i, even, went, s...|[even, went, far,...|(25281,[0,3,6,19,...|(25281,[0,3,6,19,...|  0.0|\n",
      "|id20836|His facial aspect...|   HPL|his facial aspect...|[his, facial, asp...|[facial, aspect, ...|(25281,[19,28,59,...|(25281,[19,28,59,...|  2.0|\n",
      "+-------+--------------------+------+--------------------+--------------------+--------------------+--------------------+--------------------+-----+\n",
      "only showing top 20 rows\n",
      "\n"
     ]
    }
   ],
   "source": [
    "# relabel authors\n",
    "label_indexer = StringIndexer(inputCol = \"author\", outputCol = \"label\")\n",
    "\n",
    "label_indexer_model = label_indexer.fit(processed_data)\n",
    "\n",
    "labeled_train_df = label_indexer_model.transform(processed_data)\n",
    "\n",
    "labeled_train_df.show()"
   ]
  },
  {
   "cell_type": "code",
   "execution_count": 11,
   "id": "f6e23b8c",
   "metadata": {
    "scrolled": false
   },
   "outputs": [
    {
     "name": "stdout",
     "output_type": "stream",
     "text": [
      "+-----+-----+----------+\n",
      "|label|count|percentage|\n",
      "+-----+-----+----------+\n",
      "|  0.0| 7900|       0.4|\n",
      "|  1.0| 6044|      0.31|\n",
      "|  2.0| 5635|      0.29|\n",
      "+-----+-----+----------+\n",
      "\n",
      "Ratio training:validation =0.7505490576638235:0.2494509423361765\n"
     ]
    }
   ],
   "source": [
    "# train and validation split\n",
    "\n",
    "# author count and percentages\n",
    "labeled_train_df.groupBy('label').count().withColumn('percentage', F.round(F.col('count') / labeled_train_df.count(), 2)).show()\n",
    "\n",
    "# ratio\n",
    "ratio = {0: 0.25, 1: 0.25, 2: 0.25}\n",
    "\n",
    "# create the validation set with 25% of the entire data and keep distribution, stratified sampling\n",
    "labeled_validation_df = labeled_train_df.stat.sampleBy('label', ratio, seed=40).cache()\n",
    "\n",
    "# subtract the validation set from the original training set to get 75% of the entire data \n",
    "labeled_training_df = labeled_train_df.subtract(labeled_validation_df).cache()\n",
    "\n",
    "# check ratio\n",
    "total_count = labeled_training_df.count() + labeled_validation_df.count()\n",
    "\n",
    "train_pctg = labeled_training_df.count() / total_count\n",
    "valid_pctg = labeled_validation_df.count() / total_count  \n",
    "\n",
    "print(f'Ratio training:validation ={train_pctg}:{valid_pctg}')"
   ]
  },
  {
   "cell_type": "code",
   "execution_count": null,
   "id": "07df1661",
   "metadata": {
    "scrolled": true
   },
   "outputs": [],
   "source": [
    "# Unsupervised Learning\n",
    "print(\"UNSUPERVISED LEARNING\\n\")\n",
    "\n",
    "from pyspark.ml.clustering import KMeans\n",
    "from pyspark.ml.evaluation import ClusteringEvaluator\n",
    "from pyspark.ml.feature import PCA\n",
    "from pyspark.ml.linalg import Vectors\n",
    "from pyspark.ml.recommendation import ALS\n",
    "\n",
    "# K-Means\n",
    "print(\"K-MEANS:\\n\")\n",
    "\n",
    "\n",
    "# Specify the number of clusters (authors)\n",
    "k = 3\n",
    "\n",
    "# Apply k-means clustering\n",
    "kmeans = KMeans().setK(k).setSeed(1)\n",
    "model = kmeans.fit(labeled_train_df.select(\"features\"))\n",
    "\n",
    "# Assign cluster labels to the data\n",
    "clustered_data = model.transform(labeled_train_df)\n",
    "\n",
    "# Evaluate the clustering results\n",
    "evaluator = ClusteringEvaluator()\n",
    "silhouette_score = evaluator.evaluate(clustered_data)\n",
    "print(\"Silhouette Score:\", silhouette_score)\n",
    "\n",
    "# Display the cluster assignments for each data point\n",
    "clustered_data.select(\"author\", \"prediction\").show()\n",
    "\n",
    "# Analyze the distribution of authors in each cluster\n",
    "cluster_distribution = clustered_data.groupBy(\"prediction\", \"author\").count().orderBy(\"prediction\")\n",
    "cluster_distribution.show()\n"
   ]
  },
  {
   "cell_type": "code",
   "execution_count": 12,
   "id": "4ec1f81a",
   "metadata": {
    "scrolled": true
   },
   "outputs": [
    {
     "name": "stdout",
     "output_type": "stream",
     "text": [
      "SUPERVISED LEARNING\n",
      "\n",
      "Logistic Regression\n",
      "\n",
      "+--------------------+------+--------------------+-----+--------------------+----------+\n",
      "|                text|author|            features|label|         probability|prediction|\n",
      "+--------------------+------+--------------------+-----+--------------------+----------+\n",
      "|I confess that ne...|   MWS|(25281,[341,421,4...|  1.0|[0.00947161694277...|       1.0|\n",
      "|It was not that t...|   HPL|(25281,[0,63,70,1...|  2.0|[0.00712481635259...|       2.0|\n",
      "|Leave me; I am in...|   MWS|(25281,[342,11049...|  1.0|[0.01206534856984...|       1.0|\n",
      "|On a certain rain...|   HPL|(25281,[18,122,15...|  2.0|[8.80009463896474...|       2.0|\n",
      "|I then took oppor...|   EAP|(25281,[0,17,45,8...|  0.0|[0.99999997372394...|       0.0|\n",
      "+--------------------+------+--------------------+-----+--------------------+----------+\n",
      "only showing top 5 rows\n",
      "\n",
      "F1 for Training: 0.9904139450253125\n",
      "Training Accuracy: 0.9904048996257231\n",
      "+--------------------+------+--------------------+-----+--------------------+----------+\n",
      "|                text|author|            features|label|         probability|prediction|\n",
      "+--------------------+------+--------------------+-----+--------------------+----------+\n",
      "|It never once occ...|   HPL|(25281,[7,13,303,...|  2.0|[0.71132417238244...|       0.0|\n",
      "|Finding nothing e...|   HPL|(25281,[6,70,161,...|  2.0|[0.93438800028997...|       0.0|\n",
      "|The astronomer, p...|   EAP|(25281,[72,114,13...|  0.0|[0.17705957070080...|       1.0|\n",
      "|The surcingle hun...|   EAP|(25281,[118,598,9...|  0.0|[0.96580952447387...|       0.0|\n",
      "|Her native sprigh...|   MWS|(25281,[28,44,57,...|  1.0|[0.00258513073576...|       1.0|\n",
      "+--------------------+------+--------------------+-----+--------------------+----------+\n",
      "only showing top 5 rows\n",
      "\n",
      "LR_RMSE for Validation: 0.6392819477205725\n",
      "F1 for Validation: 0.8035842164405156\n",
      "Validation Accuracy: 0.8038493038493039\n"
     ]
    }
   ],
   "source": [
    "# Supervised Learning\n",
    "print(\"SUPERVISED LEARNING\\n\")\n",
    "\n",
    "# Logistic Regression\n",
    "print(\"Logistic Regression\\n\")\n",
    "from pyspark.ml.classification import LogisticRegression, DecisionTreeClassifier, RandomForestClassifier\n",
    "from pyspark.ml.clustering import KMeans, GaussianMixture, BisectingKMeans\n",
    "from pyspark.ml.recommendation import ALS\n",
    "from pyspark.ml.evaluation import RegressionEvaluator, ClusteringEvaluator\n",
    "from pyspark.ml.feature import VectorAssembler\n",
    "from pyspark.sql import SparkSession\n",
    "\n",
    "#Train and evaluate LR for training\n",
    "lr = LogisticRegression(featuresCol = 'features', labelCol = 'label', maxIter=5)\n",
    "lr_model = lr.fit(labeled_training_df)\n",
    "\n",
    "train_preds_labels = lr_model.transform(labeled_training_df)\n",
    "train_preds_labels.select('text', 'author', 'features', 'label', 'probability', 'prediction').show(5)\n",
    "evaluator = MulticlassClassificationEvaluator(predictionCol='prediction', labelCol='label', metricName='f1')\n",
    "train_f1_score = evaluator.evaluate(train_preds_labels)\n",
    "print(\"F1 for Training:\", train_f1_score )\n",
    "train_summary = lr_model.evaluate(labeled_training_df)\n",
    "print(\"Training Accuracy:\",train_summary.accuracy)\n",
    "\n",
    "# Evaluating Validation\n",
    "supervised_predictions_lr = lr_model.transform(labeled_validation_df)\n",
    "supervised_predictions_lr.select('text', 'author', 'features', 'label', 'probability', 'prediction').show(5)\n",
    "supervised_evaluator = RegressionEvaluator(metricName=\"rmse\")\n",
    "lr_rmse = supervised_evaluator.evaluate(supervised_predictions_lr)\n",
    "validation_f1_score = evaluator.evaluate(supervised_predictions_lr)\n",
    "print(\"LR_RMSE for Validation:\", lr_rmse)\n",
    "print(\"F1 for Validation:\", validation_f1_score)\n",
    "validation_summary = lr_model.evaluate(labeled_validation_df)\n",
    "print(\"Validation Accuracy:\",validation_summary.accuracy)\n"
   ]
  },
  {
   "cell_type": "code",
   "execution_count": 13,
   "id": "d9055f3c",
   "metadata": {},
   "outputs": [
    {
     "name": "stdout",
     "output_type": "stream",
     "text": [
      "Fitting CrossValidator...\n",
      "CrossValidator fitting completed!\n"
     ]
    }
   ],
   "source": [
    "# Getting Best Hyperparameters\n",
    "\n",
    "from pyspark.ml.classification import LogisticRegression\n",
    "from pyspark.ml.evaluation import BinaryClassificationEvaluator\n",
    "from pyspark.ml.tuning import ParamGridBuilder, CrossValidator\n",
    "\n",
    "\n",
    "# Define the parameter grid with different hyperparameter values to test\n",
    "param_grid = ParamGridBuilder() \\\n",
    "    .addGrid(lr.regParam, [0.1, 1.0]) \\\n",
    "    .addGrid(lr.elasticNetParam, [0.0, 1.0]) \\\n",
    "    .addGrid(lr.maxIter, [1, 5]) \\\n",
    "    .build()\n",
    "\n",
    "# Create a CrossValidator with the Logistic Regression model, parameter grid, and evaluator\n",
    "crossval = CrossValidator(estimator=lr,\n",
    "                          estimatorParamMaps=param_grid,\n",
    "                          evaluator=evaluator,\n",
    "                          numFolds=2)\n",
    "\n",
    "print(\"Fitting CrossValidator...\")\n",
    "# Fit the CrossValidator to the data\n",
    "cv_model = crossval.fit(labeled_training_df)\n",
    "print(\"CrossValidator fitting completed!\")\n",
    "\n",
    "# Get the best model from the CrossValidator\n",
    "best_model = cv_model.bestModel"
   ]
  },
  {
   "cell_type": "code",
   "execution_count": 14,
   "id": "7b963717",
   "metadata": {
    "scrolled": true
   },
   "outputs": [
    {
     "name": "stdout",
     "output_type": "stream",
     "text": [
      "LogisticRegression_f12241dcfd9c__aggregationDepth: 2\n",
      "LogisticRegression_f12241dcfd9c__elasticNetParam: 0.0\n",
      "LogisticRegression_f12241dcfd9c__family: auto\n",
      "LogisticRegression_f12241dcfd9c__featuresCol: features\n",
      "LogisticRegression_f12241dcfd9c__fitIntercept: True\n",
      "LogisticRegression_f12241dcfd9c__labelCol: label\n",
      "LogisticRegression_f12241dcfd9c__maxBlockSizeInMB: 0.0\n",
      "LogisticRegression_f12241dcfd9c__maxIter: 1\n",
      "LogisticRegression_f12241dcfd9c__predictionCol: prediction\n",
      "LogisticRegression_f12241dcfd9c__probabilityCol: probability\n",
      "LogisticRegression_f12241dcfd9c__rawPredictionCol: rawPrediction\n",
      "LogisticRegression_f12241dcfd9c__regParam: 0.1\n",
      "LogisticRegression_f12241dcfd9c__standardization: True\n",
      "LogisticRegression_f12241dcfd9c__threshold: 0.5\n",
      "LogisticRegression_f12241dcfd9c__tol: 1e-06\n",
      "Best Model F1 Validation Score: 0.8240254384097516\n",
      "Validation Accuracy: 0.8243243243243243\n"
     ]
    }
   ],
   "source": [
    "best_model_params = best_model.extractParamMap()\n",
    "for param_name, param_value in best_model_params.items():\n",
    "    print(\"{}: {}\".format(param_name, param_value))\n",
    "    \n",
    "# Evaluate the best model on the validation data\n",
    "best_model_labels = best_model.transform(labeled_validation_df)\n",
    "f1_score = evaluator.evaluate(best_model_labels)\n",
    "validation_summary = best_model.evaluate(labeled_validation_df)\n",
    "\n",
    "# Print the F1 score\n",
    "print(\"Best Model F1 Validation Score:\",f1_score)\n",
    "print(\"Validation Accuracy:\",validation_summary.accuracy)\n"
   ]
  },
  {
   "cell_type": "code",
   "execution_count": 15,
   "id": "ceb14867",
   "metadata": {
    "scrolled": true
   },
   "outputs": [
    {
     "name": "stdout",
     "output_type": "stream",
     "text": [
      "Confusion Matrix:\n",
      "+-----+----+----+----+\n",
      "|label| 0.0| 1.0| 2.0|\n",
      "+-----+----+----+----+\n",
      "|  0.0|1786| 158|  67|\n",
      "|  1.0| 254|1199|  45|\n",
      "|  2.0| 239|  95|1041|\n",
      "+-----+----+----+----+\n",
      "\n"
     ]
    },
    {
     "data": {
      "image/png": "[encoded data removed]",
      "text/plain": [
       "<Figure size 640x480 with 2 Axes>"
      ]
     },
     "metadata": {},
     "output_type": "display_data"
    }
   ],
   "source": [
    "# Confusion Matrix\n",
    "from pyspark.mllib.evaluation import MulticlassMetrics\n",
    "\n",
    "# Create a confusion matrix\n",
    "confusion_matrix = best_model_labels.groupBy(\"label\").pivot(\"prediction\").count().na.fill(0)\n",
    "\n",
    "# Print confusion matrix\n",
    "print(\"Confusion Matrix:\")\n",
    "confusion_matrix.show()\n",
    "\n",
    "# Convert Spark DataFrame to Pandas DataFrame\n",
    "confusion_matrix_pd = confusion_matrix.toPandas()\n",
    "\n",
    "# Set the 'label' column as the index\n",
    "confusion_matrix_pd.set_index('label', inplace=True)\n",
    "\n",
    "# Plot the confusion matrix as a heatmap\n",
    "plt.imshow(confusion_matrix_pd, cmap='Blues')\n",
    "\n",
    "# Set the colorbar\n",
    "plt.colorbar()\n",
    "\n",
    "# Set the tick labels and axis labels\n",
    "classes=label_indexer_model.labels\n",
    "plt.xticks(range(len(confusion_matrix_pd.columns)), label_indexer_model.labels)\n",
    "plt.yticks(range(len(confusion_matrix_pd.index)), label_indexer_model.labels)\n",
    "plt.xlabel('Predicted label')\n",
    "plt.ylabel('True label')\n",
    "\n",
    "# Display the plot\n",
    "plt.show()"
   ]
  },
  {
   "cell_type": "code",
   "execution_count": null,
   "id": "bae26221",
   "metadata": {},
   "outputs": [],
   "source": [
    "'''\n",
    "Using Logistic Regression was the best of the algorithms tried. I improved preprocessing, so now my accuracy hit >80% for\n",
    "the LR model.\n",
    "'''"
   ]
  }
 ],
 "metadata": {
  "kernelspec": {
   "display_name": "Python 3 (ipykernel)",
   "language": "python",
   "name": "python3"
  },
  "language_info": {
   "codemirror_mode": {
    "name": "ipython",
    "version": 3
   },
   "file_extension": ".py",
   "mimetype": "text/x-python",
   "name": "python",
   "nbconvert_exporter": "python",
   "pygments_lexer": "ipython3",
   "version": "3.10.9"
  }
 },
 "nbformat": 4,
 "nbformat_minor": 5
}
